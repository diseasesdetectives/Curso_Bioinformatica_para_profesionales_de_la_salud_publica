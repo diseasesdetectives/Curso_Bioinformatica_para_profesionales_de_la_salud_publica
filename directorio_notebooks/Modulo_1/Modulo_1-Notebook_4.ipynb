{
  "cells": [
    {
      "cell_type": "markdown",
      "metadata": {
        "id": "IKicd0yBmBZQ"
      },
      "source": [
        "# Curso de bioinformática para profesionales de la salud: Patógenos respiratorios\n",
        "\n",
        "\n",
        "## Práctica Módulo 1. Control de calidad secuencias crudas: Secuencias cortas y Secuencias largas\n",
        "\n",
        "\n",
        "## 1. Instalación la plataforma conda/mamba\n",
        "\n",
        "###\"Conda es un gestor de paquetes y ambientes desde la línea de commando. 250 paquetes de instalación automática que trabajan bien fuera de la caja. Acceso al repositorio público de Anaconda con 8000 paquetes de libre acceso en areas como data science y machine learning. Anaconda se distribuye gratuitamente, fácil de instalar y ofrece una comunidad de desarrollo como soporte\"."
      ]
    },
    {
      "cell_type": "code",
      "execution_count": null,
      "metadata": {
        "id": "wl3p0egFyGSp"
      },
      "outputs": [],
      "source": [
        "#Instale de la plataforma conda/mamba y dependencias de conda/mamba en colab\n",
        "#!pip install -q condacolab\n",
        "#Instalación cuda-version-12 para resolver error cuda_12.2.*\n",
        "!pip install -U https://github.com/conda-incubator/condacolab/archive/cuda-version-12.tar.gz\n",
        "import condacolab\n",
        "condacolab.install()\n",
        "!pip install --upgrade --force-reinstall zstandard"
      ]
    },
    {
      "cell_type": "code",
      "execution_count": null,
      "metadata": {
        "id": "4ZSWfb_d4KgG"
      },
      "outputs": [],
      "source": [
        "import condacolab\n",
        "condacolab.install()\n",
        "!pip install --upgrade --force-reinstall zstandard"
      ]
    },
    {
      "cell_type": "markdown",
      "source": [
        "### \"Mamba es una herramienta en la interfase de línea de comando (CLI) para la gestión de ambientes conda. Si ha usado conda, genial ya conoce mamba!. Si eres nuevo en este mundo bioinfo, no entres en pánico, vas a encontrar todo lo necesario en la documentación\". Mamba viene instalada por defecto en la versión actual de google Colab, compruébelo."
      ],
      "metadata": {
        "id": "C6La7j91fHtH"
      }
    },
    {
      "cell_type": "code",
      "execution_count": null,
      "metadata": {
        "id": "DryudzMKoVWa"
      },
      "outputs": [],
      "source": [
        "#Revise la lista de ambientes que vienen por defecto en conda/mamba\n",
        "!mamba env list"
      ]
    },
    {
      "cell_type": "markdown",
      "metadata": {
        "id": "vjhp0-291Fvc"
      },
      "source": [
        "###Para más información consulte la documentación:\n",
        "\n",
        "[conda](https://conda.io/projects/conda/en/latest/user-guide/install/index.html)\n",
        "\n",
        "[mamba](https://mamba.readthedocs.io/en/latest/)"
      ]
    },
    {
      "cell_type": "markdown",
      "metadata": {
        "id": "KzvkamPgPPzV"
      },
      "source": [
        "##2. Cree un ambiente conda/mamba con los programas  necesarios para realizar el ejercicio de control de calidad de las secuencias\n",
        "\n",
        "### \"Con conda/mamba usted puede crear, exportar, listar, remover y actualizar ambientes que tienen diferentes versiones de Python y/o paquetes bioinformáticos instalados. Cargar y moverse entre diferentes ambientes se llama activar un ambiente. Usted puede támbien compartir con otros el ambiente en un archivo para que sea construido en cualquier lugar en el mundo.\"\n"
      ]
    },
    {
      "cell_type": "code",
      "execution_count": null,
      "metadata": {
        "id": "GCuIAgaz91nB"
      },
      "outputs": [],
      "source": [
        "#Cree un nuevo ambiente conda/mamba\n",
        "!mamba create -n QC"
      ]
    },
    {
      "cell_type": "code",
      "execution_count": null,
      "metadata": {
        "id": "wDQlG9MmCpoM"
      },
      "outputs": [],
      "source": [
        "#Revise que el ambiente fue creado y se encuentra en la lista\n",
        "!mamba env list"
      ]
    },
    {
      "cell_type": "code",
      "execution_count": null,
      "metadata": {
        "id": "0Ov3SpR2xUuM"
      },
      "outputs": [],
      "source": [
        "#Active el ambiente que acabo de crear\n",
        "!mamba activate QC"
      ]
    },
    {
      "cell_type": "code",
      "execution_count": null,
      "metadata": {
        "id": "m2EVifBvxHjl"
      },
      "outputs": [],
      "source": [
        "#Revise en el listado de programas si encuentra los programas fastqc, multiqc, fastp o nanofilt\n",
        "!mamba list"
      ]
    },
    {
      "cell_type": "code",
      "execution_count": null,
      "metadata": {
        "id": "LY9yD4U1sysy"
      },
      "outputs": [],
      "source": [
        "#Instale las dependencias necesarias para los pasos posteriores de control de calidad de secuencias\n",
        "#conda-forge y bioconda son canales donde se enecuentran herramientas y programas\n",
        "#fastqc programa de calidad short reads\n",
        "#multiqc programa de calidad short reads múltiples secuencias\n",
        "#fastp selección de secuencias por puntaje phred\n",
        "#nanofilt selección de secuencias por puntaje Q\n",
        "!mamba install -c bioconda fastqc multiqc fastp nanofilt --quiet"
      ]
    },
    {
      "cell_type": "code",
      "execution_count": null,
      "metadata": {
        "id": "nVjq1O5uwyJ1"
      },
      "outputs": [],
      "source": [
        "#Verifique en el listado que se encuentren los programas fastqc, multiqc, fastp y nanofilt\n",
        "!mamba list"
      ]
    },
    {
      "cell_type": "markdown",
      "metadata": {
        "id": "xyr1nF9i2_vH"
      },
      "source": [
        "###Para más información consulte la documentación:\n",
        "\n",
        "[fastqc](https://www.bioinformatics.babraham.ac.uk/projects/fastqc/)\n",
        "\n",
        "[multiqc](https://multiqc.info/docs/)\n",
        "\n",
        "[fastp](https://github.com/OpenGene/fastp)\n",
        "\n",
        "[nanofilt](https://github.com/wdecoster/nanofilt)"
      ]
    },
    {
      "cell_type": "markdown",
      "metadata": {
        "id": "x4GqKa8tPLt4"
      },
      "source": [
        "##3. Realice el análisis de calidad de las secuencias Illumina\n",
        "\n",
        "### \"La herramienta FastQC provee un manera simple de realizar algunos controles de calidad en secuencias crudas cortas y largas, y visualizar los resultados en un archivo .html. Los análisis de esta herramienta permiten un desarrollo modular que provee rapidamente una primera impresión de si los datos se encuentran en condiciones de continuar con los siguientes análisis.  \n",
        "\n",
        "###Las principales funciones de FastQC son:\n",
        "\n",
        "###- Importar datos desde archivos de formatos BAM, SAM y FastQ (Cualquier variante)\n",
        "###- Proveer una mirada rápida en las secuencias reconociendo las áreas en las pueden estar los problemas.\n",
        "###- Resumir un reporte en gráficas y tablas desde un análisis rápido de calidad.\n",
        "###- Exportar los resultados en un archivo HTML como un reporte fácil de compartir.\n",
        "###- Generar reportes automáticos en la aplicación en estado Offline\"."
      ]
    },
    {
      "cell_type": "code",
      "execution_count": null,
      "metadata": {
        "id": "FGB-eg8gDlj1"
      },
      "outputs": [],
      "source": [
        "#Cree un directorio para las secuencias crudas\n",
        "!mkdir fastqs_illumina"
      ]
    },
    {
      "cell_type": "code",
      "execution_count": null,
      "metadata": {
        "id": "ajp4-moZDMsE"
      },
      "outputs": [],
      "source": [
        "#Descarge del repositorio de NCBI las secuencias crudas\n",
        "!wget ftp://ftp.sra.ebi.ac.uk/vol1/fastq/SRR260/063/SRR26037363/SRR26037363_1.fastq.gz"
      ]
    },
    {
      "cell_type": "code",
      "execution_count": null,
      "metadata": {
        "id": "O9sAtZMUD58Y"
      },
      "outputs": [],
      "source": [
        "#Descarge del otros repositorios\n",
        "!wget https://github.com/diseasesdetectives/Curso_Bioinformatica_para_profesionales_de_la_salud_publica/data_curso/prueba_fastqc.fastq.gz"
      ]
    },
    {
      "cell_type": "code",
      "execution_count": null,
      "metadata": {
        "id": "EKKf0EsnDsj1"
      },
      "outputs": [],
      "source": [
        "#Mueva los archivos de secuencias crudas al directorio creado previamente\n",
        "!mv SRR26037363_1.fastq.gz ./fastqs_illumina/\n",
        "!mv prueba_fastqc.fastq.gz ./fastqs_illumina/"
      ]
    },
    {
      "cell_type": "code",
      "execution_count": null,
      "metadata": {
        "id": "0fgmXQ2Y9oXG"
      },
      "outputs": [],
      "source": [
        "#Cree el directorio para la salida del programa fastqc\n",
        "!mkdir fastqc_output"
      ]
    },
    {
      "cell_type": "code",
      "execution_count": null,
      "metadata": {
        "id": "lQc2BsDM9GNP"
      },
      "outputs": [],
      "source": [
        "#Corra el análisis de calidad usando el programa fastqc y explore el directorio de salida\n",
        "###To Do### Corra el mismo procedimiento para la secuencia \"prueba_fastqc.fastq.gz\"\n",
        "!fastqc fastqs_illumina/SRR26037363_1.fastq.gz -o fastqc_output\n",
        "!"
      ]
    },
    {
      "cell_type": "code",
      "execution_count": null,
      "metadata": {
        "id": "koGGgjCe0Ekb"
      },
      "outputs": [],
      "source": [
        "# o corra simultaneamente varios set de datos (individuos)\n",
        "!cd fastqs_illumina/\n",
        "!multiqc ."
      ]
    },
    {
      "cell_type": "code",
      "execution_count": null,
      "metadata": {
        "id": "fizdmZ9dFQgJ"
      },
      "outputs": [],
      "source": [
        "#Descarge el archivo .html del directorio fastqc_output y de doble click\n",
        "#o visualice con el código Python\n",
        "import IPython\n",
        "IPython.display.HTML(filename='/content/fastqc_output/SRR26037363_1_fastqc.html')"
      ]
    },
    {
      "cell_type": "markdown",
      "metadata": {
        "id": "ASZPqyeYT5Fk"
      },
      "source": [
        "##4. Realice el filtrado de las secuencias del archivo \"prueba_fastqc.fastq.gz\" por calidad phred=20\n",
        "\n",
        "###Fastp es una herramienta diseñada para proporcionar un pre-procesamiento de todo en uno de archivos fastq. Esta herramienta fue desarrollada en C++, con la posibilidad de correr con múltiples CPUs para un mejor desempeño con grandes datos."
      ]
    },
    {
      "cell_type": "code",
      "execution_count": null,
      "metadata": {
        "id": "UznEUkbZOLGQ"
      },
      "outputs": [],
      "source": [
        "#Cree el directorio para la salida de fastp\n",
        "!mkdir trimmed_fastqs"
      ]
    },
    {
      "cell_type": "code",
      "execution_count": null,
      "metadata": {
        "id": "Obk275ncNkpq"
      },
      "outputs": [],
      "source": [
        "#Filtrado de las secuencias por calidad\n",
        "!fastp -i ./fastqs_illumina/prueba_fastqc.fastq.gz --detect_adapter_for_pe -o ./trimmed_fastqs/prueba_fastqc.fq.gz -h ./trimmed_fastqs/SRR26037363_1.html --qualified_quality_phred 20"
      ]
    },
    {
      "cell_type": "code",
      "execution_count": null,
      "metadata": {
        "id": "09vJxB4r1EYt"
      },
      "outputs": [],
      "source": [
        "###To Do### Escriba el código y corra el proceso de calidad que corrio previamente pero usando las secuencias filtradas\n",
        "!"
      ]
    },
    {
      "cell_type": "markdown",
      "metadata": {
        "id": "2_bHagMoS8WP"
      },
      "source": [
        "##5. Realice el análisis de calidad de las secuencias nanopore\n",
        "\n",
        "###MinIONQC es un software que generá gráficas tipo plots a partir de los datos de calidad de la secuenciación Oxford Nanopore en MinION y PromethION. Muchas otras herramientas pueden proveer resultados similares, sin embargo, son costosos computacionalmente pues se enfocan en las secuencias fastq o fast5, mientrás que esta herramienta usa directamente los archivos \"sequencing_summary.txt\" que son generados por software de llamado de bases ONT's Albacore o Guppy. Además, permite la comparación rápida y fácil de datos de diferentes celdas. Por ejemplo, le toma alrededor de un minuto analizar una celda de 48GB usando una computadora de un procesador.\n",
        "\n",
        "###Si no tiene el archivo sequencing_summary.txt de sus datos, usted puede producirlo rápidamente con los programas de llamado de bases ONT's Albacore o Guppy.\n"
      ]
    },
    {
      "cell_type": "code",
      "execution_count": null,
      "metadata": {
        "id": "1NLA1MjpTJ-4"
      },
      "outputs": [],
      "source": [
        "#Descargue desde el repositorio en EBI la secuencia cruda nanopore\n",
        "!wget ftp://ftp.sra.ebi.ac.uk/vol1/fastq/SRR144/083/SRR14475083/SRR14475083_1.fastq.gz"
      ]
    },
    {
      "cell_type": "code",
      "execution_count": null,
      "metadata": {
        "id": "kJzOTO7MY1sj"
      },
      "outputs": [],
      "source": [
        "#Descarge el archivo de calidad de la corrida de nanopore\n",
        "!wget https://github.com/diseasesdetectives/Curso_Bioinformatica_para_profesionales_de_la_salud_publica/data_curso/sequencing_summary.txt"
      ]
    },
    {
      "cell_type": "code",
      "execution_count": null,
      "metadata": {
        "id": "7l6uRV6U_iNO"
      },
      "outputs": [],
      "source": [
        "# Cree un directorio y mueva los archivos nanopore al directorio\n",
        "!mkdir fastqs_nanopore\n",
        "!mv SRR14475083_1.fastq.gz ./fastqs_nanopore\n",
        "!mv sequencing_summary.txt ./fastqs_nanopore"
      ]
    },
    {
      "cell_type": "code",
      "execution_count": null,
      "metadata": {
        "id": "OOzqseFE5qWM"
      },
      "outputs": [],
      "source": [
        "#Decarge el programa de calidad de secuencias para nanopore\n",
        "!wget https://raw.githubusercontent.com/roblanf/minion_qc/master/MinIONQC.R -O MinIONQC.R"
      ]
    },
    {
      "cell_type": "code",
      "execution_count": null,
      "metadata": {
        "id": "-bl_Z_wSy7da"
      },
      "outputs": [],
      "source": [
        "#Revise la versión de R. Para salir del modo consola escriba q() y luego n\n",
        "!R version"
      ]
    },
    {
      "cell_type": "code",
      "execution_count": null,
      "metadata": {
        "id": "4lFbaoEk5_9y"
      },
      "outputs": [],
      "source": [
        "# Cargue R para poder correr el programa de calidad de nanopore\n",
        "%reload_ext rpy2.ipython\n",
        "%config IPCompleter.greedy=True\n",
        "%config InlineBackend.figure_format = 'retina'"
      ]
    },
    {
      "cell_type": "code",
      "execution_count": null,
      "metadata": {
        "id": "goM2arK55wcb"
      },
      "outputs": [],
      "source": [
        "#Instale las librerias de R necesarias para correr MinIONQC\n",
        "%%R\n",
        "install.packages(c(\"data.table\",\n",
        "                   \"futile.logger\",\n",
        "                   \"ggplot2\",\n",
        "                   \"optparse\",\n",
        "                   \"plyr\",\n",
        "                   \"readr\",\n",
        "                   \"reshape2\",\n",
        "                   \"scales\",\n",
        "                   \"viridis\",\n",
        "                   \"yaml\"))"
      ]
    },
    {
      "cell_type": "code",
      "execution_count": null,
      "metadata": {
        "id": "MDSNr1wU6hhJ"
      },
      "outputs": [],
      "source": [
        "#Corra el programa de calidad de las secuencias nanopore\n",
        "!Rscript MinIONQC.R -i sequencing_summary.txt -o minion_output -p 2"
      ]
    },
    {
      "cell_type": "markdown",
      "metadata": {
        "id": "ti7cRHmKBHEn"
      },
      "source": [
        "Para mayor información consulte la documentación:\n",
        "\n",
        "[MinIONQC.R](https://github.com/roblanf/minion_qc)"
      ]
    },
    {
      "cell_type": "markdown",
      "metadata": {
        "id": "4FlzEzf8ZMto"
      },
      "source": [
        "##6. Realice el filtrado de las secuencias del archivo \"SRR14475083_1.fastq.gz\" por lonquitud > 500\n",
        "\n",
        "### Nanofilt realiza el filtrado y selección de secuencias largas por calidad o por longuitud de lectura, una opción para la selección de lecturas que pasen los filtros. Opcionalmente este puede usar con archivos en formato decomprimido.\n",
        "\n",
        "###El software es diseñado para usarse:\n",
        "\n",
        "###Directamente después de las extracción del fastq\n",
        "###Antes del proceso de mapeo\n",
        "###Dentro de un grupo de procesos como entre de extracción y mapeo\n"
      ]
    },
    {
      "cell_type": "code",
      "execution_count": null,
      "metadata": {
        "id": "sGZWeBeAQ94z"
      },
      "outputs": [],
      "source": [
        "#Tip para verificar la instalación o acceso a software se escribe el commando -h para ayuda, mostrando la nomenclatura y opciones.\n",
        "!NanoFilt -h"
      ]
    },
    {
      "cell_type": "code",
      "execution_count": null,
      "metadata": {
        "id": "rJKw7TqjQaQb"
      },
      "outputs": [],
      "source": [
        "#Descomprimir archivo de la secuencia nanopore\n",
        "! gunzip -c SRR14475083_1.fastq.gz"
      ]
    },
    {
      "cell_type": "code",
      "execution_count": null,
      "metadata": {
        "id": "bPMVM81yuspl"
      },
      "outputs": [],
      "source": [
        "#Filtrar las secuencias menores que 500 bp y otros parámetros de calidad por default\n",
        "!NanoFilt -l 500 SRR14475083_1.fastq"
      ]
    },
    {
      "cell_type": "code",
      "execution_count": null,
      "metadata": {
        "id": "_OJw_mhTu16Q"
      },
      "outputs": [],
      "source": [
        "##cambiar nombre del archivo y comprimir para ocupar menor espacio\n",
        "!mv SRR14475083_1.fastq SRR14475083_1_trimmed.fastq\n",
        "!gzip SRR14475083_1_trimmed.fastq"
      ]
    },
    {
      "cell_type": "markdown",
      "metadata": {
        "id": "q2sUzPCDaEa5"
      },
      "source": [
        "##7. Prueba Módulo_1\n",
        "\n",
        "###Siga el paso a paso del cuaderno, recuerde los procesos vistos previamente para resolverlo"
      ]
    },
    {
      "cell_type": "code",
      "execution_count": null,
      "metadata": {
        "id": "ZjNPO16paRPx"
      },
      "outputs": [],
      "source": [
        "#Descarge las secuencias crudas para el ejercicio\n",
        "!wget https://github.com/diseasesdetectives/Curso_Bioinformatica_para_profesionales_de_la_salud_publica/data_curso/Modulo_1/exercise.zip"
      ]
    },
    {
      "cell_type": "code",
      "execution_count": null,
      "metadata": {
        "id": "gXSb2GYn0P1d"
      },
      "outputs": [],
      "source": [
        "#Descomprima el directorio \"exercise\"\n",
        "!unzip exercise.zip"
      ]
    },
    {
      "cell_type": "code",
      "execution_count": null,
      "metadata": {
        "id": "hS5OLlBE0ajz"
      },
      "outputs": [],
      "source": [
        "#Liste las 4 secuencias para el análisis \"sample_1-4\"\n",
        "!"
      ]
    },
    {
      "cell_type": "code",
      "execution_count": null,
      "metadata": {
        "id": "NqtU4PqADx_S"
      },
      "outputs": [],
      "source": [
        "#muevase a la crapeta de trabajo exercise\n",
        "!"
      ]
    },
    {
      "cell_type": "code",
      "execution_count": null,
      "metadata": {
        "id": "ObKUhW_y1DE_"
      },
      "outputs": [],
      "source": [
        "#Active el ambiente mamba de calidad de las secuencias que se creo previamente (QC)\n",
        "!"
      ]
    },
    {
      "cell_type": "code",
      "execution_count": null,
      "metadata": {
        "id": "9MG3Owr91Pqb"
      },
      "outputs": [],
      "source": [
        "#En este espacio realice el análisis de calidad de la secuencia sample_1\n",
        "#Si es necesario realice el filtrado por calidad o longitud de secuencias\n",
        "!"
      ]
    },
    {
      "cell_type": "code",
      "execution_count": null,
      "metadata": {
        "id": "tXitgkkZ1Spu"
      },
      "outputs": [],
      "source": [
        "#En este espacio realice el análisis de calidad de la secuencia sample_2\n",
        "#Si es necesario realice el filtrado por calidad o longitud de secuencias\n",
        "!"
      ]
    },
    {
      "cell_type": "code",
      "execution_count": null,
      "metadata": {
        "id": "lB95i4uT1SYZ"
      },
      "outputs": [],
      "source": [
        "#En este espacio realice el análisis de calidad de la secuencia sample_3\n",
        "#Si es necesario realice el filtrado por calidad o longitud de secuencias\n",
        "!"
      ]
    },
    {
      "cell_type": "code",
      "execution_count": null,
      "metadata": {
        "id": "5ezvNYbK1SFb"
      },
      "outputs": [],
      "source": [
        "#En este espacio realice el análisis de calidad de la secuencia sample_4\n",
        "#Si es necesario realice el filtrado por calidad o longitud de secuencias\n",
        "!"
      ]
    },
    {
      "cell_type": "markdown",
      "metadata": {
        "id": "pOqKqJHq15zu"
      },
      "source": [
        "##Para cumplir con la prueba de este módulo deberá subir en la plataforma Learning manage system (LMS) sección prueba Módulo_1, los archivos de reporte de calidad \"fastqc.html\" finales, en caso de realizar algún filtrado por favor vuelva a correr el programa de calidad del archivo filtrado y suba solo el último reporte.\n",
        "\n",
        "#FIN DEL EJERCICIO\n",
        "\n",
        "\n",
        "\n",
        "\n",
        "Alguna de la información aquí presentada proviene de cursos pasados desarrollados por el Wellcome connecting science (WCS) en el marco del proyecto COG-TRAIN\n",
        "\n",
        "https://github.com/WCSCourses/COG-Train_Resources"
      ]
    }
  ],
  "metadata": {
    "colab": {
      "provenance": []
    },
    "kernelspec": {
      "display_name": "Python 3",
      "name": "python3"
    },
    "language_info": {
      "name": "python"
    }
  },
  "nbformat": 4,
  "nbformat_minor": 0
}
