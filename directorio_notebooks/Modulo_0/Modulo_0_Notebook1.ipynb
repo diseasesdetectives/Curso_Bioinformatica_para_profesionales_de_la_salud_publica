{
  "cells": [
    {
      "cell_type": "markdown",
      "metadata": {
        "id": "VZpWDT_qK5mE"
      },
      "source": [
        "# Curso de bioinformática para profesionales de la salud: Enfrentando patógenos respiratorios\n",
        "\n",
        "## Práctica Módulo_0: Introducción a la línea de comando en Unix/Linux\n",
        "\n",
        "##1. Ejecuntando línea de comando\n",
        "\n",
        "A continuación encontrará líneas de comando que contienen código en uno de los lenguajes soportados por el *notebook*, como R o Python, y que pueden ser ejecutados.\n",
        "\n",
        "La siguiente celda es un ejemplo de una celda de código, con una instrucción en el lenguaje Python que produce una animación y muestra una barra de progreso.\n",
        "\n",
        "**Nota**: Su tiempo de ejecución se (re)conectará y activará cuando se ejecute la primera celda de código. Es posible que muestre el mensaje \"Error en el entorno de ejecución\", lo cual es normal, solo requiere esperar a que el *notebook* se vuelva a conectar con Google Colab."
      ]
    },
    {
      "cell_type": "code",
      "execution_count": null,
      "metadata": {
        "id": "muiuQluSHnDW"
      },
      "outputs": [],
      "source": [
        "# Demonstración de una barra de progreso en python\n",
        "from tqdm import tqdm\n",
        "import time\n",
        "for i in tqdm(range(20), desc = 'Barra de progresso'):\n",
        "    time.sleep(0.1)"
      ]
    },
    {
      "cell_type": "markdown",
      "metadata": {
        "id": "HGvkbpm55Q1o"
      },
      "source": [
        "## 2. Acceder a Google Drive desde un *notebook*\n",
        "\n",
        "Google Drive interactúa muy bien con Google Colab, ya que es posible acceder, en tiempo real, a archivos en Google Drive desde un *notebook* en funcionamiento. En esta clase, este acceso nos ayudará a comprender el sistema de archivos de Linux.\n",
        "\n",
        "El proceso es sencillo, simplemente haga clic en el icono de la carpeta (\"Files\") que aparece en el lado izquierdo del *notebook* y luego en el icono de Google Drive (\"Mount Drive\"). Al hacer clic en el icono de Google Drive, se agregará una celda como la siguiente:"
      ]
    },
    {
      "cell_type": "code",
      "execution_count": null,
      "metadata": {
        "id": "DhmBc_CatMBZ"
      },
      "outputs": [],
      "source": [
        "from google.colab import drive\n",
        "drive.mount('/content/drive')"
      ]
    },
    {
      "cell_type": "markdown",
      "metadata": {
        "id": "i0AKRXvonD4N"
      },
      "source": [
        " Al realizar la ejecución, se podrá acceder a sus archivos en drive desde a la carpeta *drive* en la lista de la izquierda en archivos. Para completar esta tarea debe aceptar todos los permisos de acceso de Google."
      ]
    },
    {
      "cell_type": "markdown",
      "metadata": {
        "id": "MY1JBynBfoUT"
      },
      "source": [
        "## 3. Introducción a los notebooks y Unix\n",
        "Dentro de Google Colab, el *notebook* es la interfaz más importante y permite la ejecución de casi todas las tareas que podría realizar el usuario en una computadora Linux.\n",
        "\n",
        "Aunque Google Colab proporciona el equivalente a una computadora completa, una de sus limitaciones es la falta de disponibilidad de un entorno de *escritorio*, es decir, una interfaz gráfica completa.\n",
        "\n",
        "Afortunadamente, gran parte del trabajo en bioinformática se basa en el uso de la [**línea de comandos**](https://es.wikipedia.org/wiki/Interfaz_de_l%C3%ADnea_de_comandos), una eficiente y popular interfaz, enteramente basada en comandos que debe ser mecanografiado. En la interfaz gráfica de Linux, la ventana donde se ingresan los comandos se conoce como [**terminal emulator**](https://es.wikipedia.org/wiki/Emulador_de_terminal) o, simplemente, **terminal**.\n",
        "\n",
        "Los comandos escritos en una ventana de terminal primero se capturan e interpretan mediante un software llamado *shell*. El *shell* procesa los comandos con su propio lenguaje y ejecuta los programas solicitados en cada comando.\n",
        "\n",
        "Hay muchas opciones de *shell*, cada una con diferente sintaxis y comportamiento, pero en este curso nos centraremos en [**BASH**](https://www.gnu.org/software/bash/) (de *Bourne Nuevamente SHell*), el *shell* predeterminado en la mayoría de las [**distribuciones de Linux**](https://es.wikipedia.org/wiki/Distribuci%C3%B3n_Linux#:~:text=Una%20distribuci%C3%B3n%20Linux%20(GNU%2FLinux,usuarios%2C%20dando%20as%C3%AD%20origen%20a).\n",
        "\n",
        "Como Google Colab solo proporciona acceso a una terminal en la versión paga, será bueno comprender las diferencias entre ejecutar comandos en Colab y en una terminal Linux."
      ]
    },
    {
      "cell_type": "markdown",
      "metadata": {
        "id": "p5SImQk-LGMe"
      },
      "source": [
        "# Python vs Bash: El signo de exclamación\n",
        "\n",
        "Google Colab deriva de [Jupyter Notebook](https://jupyter.org/). Jupyter fue creado para ejecutar instrucciones del [lenguaje Python](https://www.python.org/) y, sólo más tarde, se adaptó para usar otros lenguajes, como el [entorno estadístico R](https://www. r-project.org/).\n",
        "\n",
        "El [lenguaje Python](https://www.python.org/) es potente y muy adecuado para tareas de programación y análisis de datos, pero es menos ágil que el *shell*, cuando se usa en una terminal, cuando el objetivo es para ejecutar otro software. El *shell* también es excelente para combinar múltiples comandos en una línea de instrucción.\n",
        "\n",
        "Sin embargo, para los propósitos de esta clase, tenemos una característica en Colab que facilita la ejecución de comandos externos: el marcador de exclamación (!). Este marcador se utiliza para pedirle a Colab que ejecute **líneas de comando en bash**, lo que se aproxima en gran medida al comportamiento del *shell* en la terminal.\n",
        "\n",
        "**Nota:** ¡No utilice el signo de exclamación (!) para ejecutar código en Python o R!"
      ]
    },
    {
      "cell_type": "code",
      "execution_count": null,
      "metadata": {
        "id": "dvo4cVYzKyzY"
      },
      "outputs": [],
      "source": [
        "#ejemplo de Python\n",
        "print(\"Este es un comando Python!!\")"
      ]
    },
    {
      "cell_type": "code",
      "execution_count": null,
      "metadata": {
        "id": "1yjkW5M7LbMz"
      },
      "outputs": [],
      "source": [
        "#exemplo de bash\n",
        "!echo \"Este es el mismo comando en bash!!\""
      ]
    },
    {
      "cell_type": "markdown",
      "metadata": {
        "id": "3NH2ZaGwIuqP"
      },
      "source": [
        "Si olvida utilizar el símbolo (!), se producirá un error. Esto sucede porque Colab intentará ejecutar el comando BASH en el intérprete del lenguaje Python, lo que probablemente no funcionará. Intente ejecutar el ejemplo en la celda siguiente.\n",
        "\n",
        "¡¡¡Esto creará un error llamado **\"error de sintaxis\"**!!!\n",
        "\n",
        "Si encuentra esto al intentar ejecutar un comando BASH, no se preocupe, agregue el comando ! e intenta de nuevo."
      ]
    },
    {
      "cell_type": "code",
      "execution_count": null,
      "metadata": {
        "id": "HRf3XhgVF1xT"
      },
      "outputs": [],
      "source": [
        "#Ejemplo de requerimiento de (!) al tratar de ejecutar un comando bash\n",
        "echo \"Este es un comando bash sin !\""
      ]
    },
    {
      "cell_type": "markdown",
      "metadata": {
        "id": "XQu-jgvaGvRF"
      },
      "source": [
        "## Comunicación entre comandos en el notebook y la terminal.\n",
        "\n",
        "Los comandos en Python, en el *notebook* o en bash, **cuando se ejecutan en la terminal**, pueden tener efectos en comandos futuros. Esto sucede porque en estos casos, los valores de **variables**, de Python o bash, se pueden cambiar, y los comandos futuros pueden verse influenciados por los nuevos valores."
      ]
    },
    {
      "cell_type": "code",
      "execution_count": 5,
      "metadata": {
        "id": "XbtYD5zbGy_N"
      },
      "outputs": [],
      "source": [
        "# Ejemplo en Python\n",
        "a=2"
      ]
    },
    {
      "cell_type": "code",
      "execution_count": null,
      "metadata": {
        "id": "5FoZErvaG42d"
      },
      "outputs": [],
      "source": [
        "# Revise el valor atribuído a la variable anterior\n",
        "print(a)"
      ]
    },
    {
      "cell_type": "code",
      "execution_count": null,
      "metadata": {
        "id": "-D0PsYFyHBmC"
      },
      "outputs": [],
      "source": [
        "# El mismo ejemplo en la shell: \"echo\" substituye a print y el nombre de la variable necesita tener ($) al comienzo\n",
        "!a=2; echo $a"
      ]
    },
    {
      "cell_type": "markdown",
      "metadata": {
        "id": "McyZvcWCHrLN"
      },
      "source": [
        "Tenga en cuenta que en el ejemplo anterior, asignamos el valor 2 a la variable \"a\" y lo imprimimos, todo en la misma celda, separado por un punto y coma (;). Todo funciona: el valor de a (2) aparece en la salida.\n",
        "\n",
        "Sin embargo, si ejecutamos comandos bash en diferentes celdas:"
      ]
    },
    {
      "cell_type": "code",
      "execution_count": null,
      "metadata": {
        "id": "YQD7w_BLHSZr"
      },
      "outputs": [],
      "source": [
        "!a=2\n",
        "!echo $a"
      ]
    },
    {
      "cell_type": "markdown",
      "metadata": {
        "id": "9hfjaf95I70g"
      },
      "source": [
        "\n",
        "\n",
        "Los comandos Bash en diferentes celdas, sin embargo, verán los cambios que se realizan en los archivos y directorios, es decir, que se guardan en el disco de la máquina que ejecuta el *notebook*.\n",
        "\n",
        "Esto, por supuesto, no es un comportamiento de *shell* en una ventana de terminal, donde el valor de la variable se mantendrá hasta que se cierre la terminal."
      ]
    },
    {
      "cell_type": "markdown",
      "metadata": {
        "id": "O1gj_VJ8JRns"
      },
      "source": [
        "# Funciones o Comandos mágicos en el notebook\n",
        "\n",
        "Otra característica en la que bash y Colab/Jupyter *notebook* difieren es que en *notebook* hay un conjunto de comandos llamados \"funciones o comandos mágicos\". Los comandos mágicos comienzan con el carácter **porcentaje (%)** y sirven para varios propósitos, como cambiar el comportamiento del *notebook*, informar sobre el estado de Colab/Jupyter o reemplazar comandos *shell*, como \"cd\" y \"ls\".\n",
        "\n",
        "Por ejemplo, un atajo para cargar dos conjuntos de extensiones del lenguaje Python, específicamente la biblioteca numpy y varias características de la biblioteca matplotlib, es el comando mágico **%pylab**:"
      ]
    },
    {
      "cell_type": "code",
      "execution_count": null,
      "metadata": {
        "id": "MkyOV_7MHcdD"
      },
      "outputs": [],
      "source": [
        "%pylab"
      ]
    },
    {
      "cell_type": "markdown",
      "metadata": {
        "id": "6Wqk_GqgF3_l"
      },
      "source": [
        "#Directorios en Linux/Unix\n",
        "\n",
        "Los directorios son el equivalente UNIX de las carpetas en Microsoft Windows o Mac OS.\n",
        "\n",
        "Al igual que las carpetas en estos sistemas, los directorios están organizados en una jerarquía, es decir, los directorios pueden contener otros directorios, a los que a veces nos referimos como subdirectorios.\n",
        "\n",
        "Los directorios se utilizan para organizar el flujo de trabajo. Por ejemplo, si tiene más de un proyecto, puede organizar los archivos de cada proyecto en directorios diferentes para mantenerlos separados.\n",
        "\n",
        "Haga clic en el icono de la carpeta (Archivos) en la barra izquierda para navegar por los directorios de la máquina virtual Colab."
      ]
    },
    {
      "cell_type": "markdown",
      "metadata": {
        "id": "yL6IQbHd6h4e"
      },
      "source": [
        "## Directorio de trabajo actual: ¿dónde estamos?\n",
        "\n",
        "**Un punto muy importante**, cuando usamos el *shell* o un notebook, necesitamos saber en qué directorio estamos trabajando porque, cuando escribimos nuestros comandos, de forma predeterminada, se accederá a todos los archivos y se guardarán en el directorio donde se ejecuta el *shell* o notebook, al que llamamos **directorio de trabajo actual**.\n",
        "\n",
        "Pero ¿cómo sabemos en qué directorio estamos?"
      ]
    },
    {
      "cell_type": "code",
      "execution_count": null,
      "metadata": {
        "id": "eT0xUNzQ5aY0"
      },
      "outputs": [],
      "source": [
        "# Comando mágico que informa el directorio en donde el notebook se está ejecutando\n",
        "%pwd"
      ]
    },
    {
      "cell_type": "code",
      "execution_count": null,
      "metadata": {
        "id": "V_veC2N07_nA"
      },
      "outputs": [],
      "source": [
        "# Equivalente en bash\n",
        "!pwd"
      ]
    },
    {
      "cell_type": "markdown",
      "metadata": {
        "id": "cKbx1QwpuWwR"
      },
      "source": [
        "### Listado de archivos y directorios\n",
        "Para obtener una lista del contenido del directorio de trabajo actual, usamos el comando ***ls***."
      ]
    },
    {
      "cell_type": "code",
      "execution_count": null,
      "metadata": {
        "id": "g4r0GTalf7kx"
      },
      "outputs": [],
      "source": [
        "# Python\n",
        "%ls"
      ]
    },
    {
      "cell_type": "code",
      "execution_count": null,
      "metadata": {
        "id": "qV5T6aAhtjC9"
      },
      "outputs": [],
      "source": [
        "# Bash\n",
        "!ls"
      ]
    },
    {
      "cell_type": "markdown",
      "metadata": {
        "id": "lnarH4fDef7E"
      },
      "source": [
        "# Comandos en Terminal: fundamentos\n",
        "Ahora aprendamos los comandos bash más útiles y sus equivalentes en *notebook*, si existen.\n",
        "\n",
        "Los comandos de Linux son palabras que pueden contener letras o números. La mayoría de los comandos aceptan parámetros, que casi siempre son opcionales y pueden ir seguidos de otros argumentos, como el nombre del archivo que se va a procesar.\n",
        "\n",
        "Por lo tanto, la estructura habitual de un comando, tanto en bash como en *notebook*, es\n",
        "\n",
        "> **<font color='red'>comando</font>** *espacio* <font color='red'>opciones</font> *espacio* <font color='red'>argumentos</font>\n",
        "\n",
        "Donde el comando, opciones y argumentos deben estar **separados por espacios**.\n",
        "\n",
        "**ES ABSOLUTAMENTE IMPRESCINDIBLE QUE LOS ESPACIOS NO SE OLVIDEN.**\n",
        "\n",
        "Esto es importante porque la línea de comando bash, o celda *notebook*, no tiene forma de inferir qué parte del texto es el nombre de un comando y qué parte es una opción o el nombre de un archivo. Esto sólo es posible si cada uno de estos elementos está separado por espacios.\n",
        "\n",
        "También es importante recordar que los comandos bash presentados aquí funcionarán de la misma manera si se ejecutan en una terminal, con la excepción del signo de exclamación al comienzo de la línea."
      ]
    },
    {
      "cell_type": "markdown",
      "metadata": {
        "id": "mtpWD20GaG2W"
      },
      "source": [
        "## Comandos esenciales en bash\n",
        "\n",
        "### Creando nuevos directorios"
      ]
    },
    {
      "cell_type": "code",
      "execution_count": 13,
      "metadata": {
        "id": "-4Tv4DhXaLs8"
      },
      "outputs": [],
      "source": [
        "# Comando mágico en notebook cree el directorio dir1\n",
        "%mkdir dir1"
      ]
    },
    {
      "cell_type": "code",
      "execution_count": 14,
      "metadata": {
        "id": "4WYbAqPDLicJ"
      },
      "outputs": [],
      "source": [
        "# comando en bash cree el directorio dir2\n",
        "!mkdir dir2"
      ]
    },
    {
      "cell_type": "markdown",
      "metadata": {
        "id": "GmhinWNEbNau"
      },
      "source": [
        "Actualice la carpeta \"Archivos\" en la barra de opciones de la izquierda y vea si aparecen las nuevas carpetas."
      ]
    },
    {
      "cell_type": "markdown",
      "metadata": {
        "id": "SBi8HHgAgAMG"
      },
      "source": [
        "### Comprobación de propiedades de archivos y directorios.\n",
        "\n",
        "Como vimos, el comando “ls” enumera el contenido del directorio.\n",
        "\n",
        "En el siguiente ejemplo, utilizamos algunas opciones del comando \"ls\":\n",
        "* La opción “-l” hace que la lista se imprima en formato largo, que detalla el tipo, permisos, tamaño y fecha de modificación de los archivos.\n",
        "* La opción \"--color\" activa la coloración por tipo\n",
        "* La opción \"-F\" agrega un carácter al final del nombre, que sirve para identificar el tipo de cada elemento\n",
        "\n",
        "Estas opciones hacen que la salida del comando \"ls\" de bash sea la misma que la salida del comando mágico *%ls*."
      ]
    },
    {
      "cell_type": "code",
      "execution_count": null,
      "metadata": {
        "id": "OF1mhkUZBwVB"
      },
      "outputs": [],
      "source": [
        "# Comando mágico en notebook\n",
        "%ls -l"
      ]
    },
    {
      "cell_type": "code",
      "execution_count": null,
      "metadata": {
        "collapsed": true,
        "id": "iekMN3ypuaHj"
      },
      "outputs": [],
      "source": [
        "# comando mágico\n",
        "%ls -l --color -F"
      ]
    },
    {
      "cell_type": "markdown",
      "metadata": {
        "id": "tw9LjP_jzFHZ"
      },
      "source": [
        "En los resultados anteriores, la información en cada línea, de izquierda a derecha, es:\n",
        "* Permisos del archivo\n",
        "* Número de *enlaces* (nombres) del artículo\n",
        "* Nombre del propietario (raíz)\n",
        "* Nombre del grupo (raíz)\n",
        "* Tamaño del archivo en bytes\n",
        "* Mes (abreviado), fecha y hora de la última modificación\n",
        "* Nombre del archivo o directorio"
      ]
    },
    {
      "cell_type": "markdown",
      "metadata": {
        "id": "r83lt8MCzmsK"
      },
      "source": [
        "### cd → cambiar directorio\n",
        "\n",
        "Cambie el directorio de trabajo actual al directorio especificado."
      ]
    },
    {
      "cell_type": "code",
      "execution_count": null,
      "metadata": {
        "id": "eiGcUydo0uSb"
      },
      "outputs": [],
      "source": [
        "#comando mágico\n",
        "%pwd"
      ]
    },
    {
      "cell_type": "markdown",
      "metadata": {
        "id": "uvnIPF5wd6fy"
      },
      "source": [
        "**Arriba** vemos el directorio de trabajo actual.\n",
        "\n",
        "Ahora cambiemos al subdirectorio dir1:"
      ]
    },
    {
      "cell_type": "code",
      "execution_count": null,
      "metadata": {
        "id": "FbKeIZH2zrcZ"
      },
      "outputs": [],
      "source": [
        "# Python\n",
        "%cd /content/dir1\n",
        "%pwd"
      ]
    },
    {
      "cell_type": "markdown",
      "metadata": {
        "id": "XuDZeymeehu4"
      },
      "source": [
        "El comando *cd*, **en una terminal**, funciona exactamente igual que el *%cd* en el *notebook*, pero el comando *!cd* solo tendrá efecto durante su ejecución.\n",
        "\n",
        "Con el siguiente comando vuelva al directorio \"content/\"\n",
        "\n",
        "\n",
        "\n"
      ]
    },
    {
      "cell_type": "code",
      "execution_count": null,
      "metadata": {
        "id": "ja-j4ZtuiEV3"
      },
      "outputs": [],
      "source": [
        "%cd ..\n",
        "%pwd"
      ]
    },
    {
      "cell_type": "markdown",
      "source": [
        "Liste los archivos en su posición actual"
      ],
      "metadata": {
        "id": "TF3X4ca6qvRc"
      }
    },
    {
      "cell_type": "code",
      "source": [
        "%ls"
      ],
      "metadata": {
        "id": "EDML4itbqtcB"
      },
      "execution_count": null,
      "outputs": []
    },
    {
      "cell_type": "markdown",
      "metadata": {
        "id": "o6Cf7D3N2H66"
      },
      "source": [
        "### rmdir → Remover directorios\n",
        "Este comando se utiliza para eliminar directorios **vacíos**.\n",
        "\n",
        "Ejecute los comandos y observe cómo desaparecen las carpetas."
      ]
    },
    {
      "cell_type": "code",
      "execution_count": null,
      "metadata": {
        "id": "rg2qteNyiagf"
      },
      "outputs": [],
      "source": [
        "# Comando mágico\n",
        "%rmdir dir1\n",
        "%ls"
      ]
    },
    {
      "cell_type": "markdown",
      "metadata": {
        "id": "l9MisIjiqXcp"
      },
      "source": [
        "Observe como en la primera línea están todos los directorios, pero luego de eliminar el directorio \"dir1\" y volver a listarlo, este ya no se encuentra.."
      ]
    },
    {
      "cell_type": "markdown",
      "source": [
        "Liste los archivos del directorio actual"
      ],
      "metadata": {
        "id": "2Go0yqvmrUOK"
      }
    },
    {
      "cell_type": "code",
      "source": [
        "#comando bash\n",
        "!ls --color -F"
      ],
      "metadata": {
        "id": "PbpMRGEBrEzE"
      },
      "execution_count": null,
      "outputs": []
    },
    {
      "cell_type": "markdown",
      "source": [
        "Remueva el archivo dir2 en bash"
      ],
      "metadata": {
        "id": "E58L1_tQrci2"
      }
    },
    {
      "cell_type": "code",
      "execution_count": null,
      "metadata": {
        "id": "_FUa8iOY2IKE"
      },
      "outputs": [],
      "source": [
        "# Comando Bash\n",
        "!rmdir dir2\n",
        "!ls --color -F"
      ]
    },
    {
      "cell_type": "markdown",
      "metadata": {
        "id": "bfUf8akK29xT"
      },
      "source": [
        "### Comando touch\n",
        "Este comando cambia la fecha y hora del archivo de destino. Sin embargo, si el archivo no existe, se creará sin contenido, es decir, un archivo vacío. Este comando se usa generalmente para verificar si hay permiso de escritura para el usuario actual y solo existe en el *shell*."
      ]
    },
    {
      "cell_type": "code",
      "execution_count": null,
      "metadata": {
        "id": "dScFOBl729-B"
      },
      "outputs": [],
      "source": [
        "!touch file1\n",
        "%ls -l"
      ]
    },
    {
      "cell_type": "markdown",
      "metadata": {
        "id": "XX5wr3zu2-I_"
      },
      "source": [
        "### rm → Eliminar\n",
        "rm se utiliza para eliminar archivos y directorios. Pruebe esto a continuación para eliminar el archivo que acabamos de crear."
      ]
    },
    {
      "cell_type": "code",
      "execution_count": null,
      "metadata": {
        "id": "3e_jtT3c2-XD"
      },
      "outputs": [],
      "source": [
        "%rm file1\n",
        "%ls -l"
      ]
    },
    {
      "cell_type": "markdown",
      "metadata": {
        "id": "oPqtI7IO3cSm"
      },
      "source": [
        "# ¡¡¡ZONA DE PELIGRO!!!\n",
        "\n",
        "**Recuerde que una vez que se elimina un archivo o directorio con los comandos *rm* o *rmdir*, se eliminará definitivamente, por lo tanto no irá a la 'papelera de reciclaje' y no se podrá recuperar.**"
      ]
    },
    {
      "cell_type": "markdown",
      "metadata": {
        "id": "mFYYI4323sJm"
      },
      "source": [
        "### cp → Copiar\n",
        "Copia el contenido del archivo o directorio de origen al archivo o directorio de destino. Para copiar directorios, debe utilizar la opción “-r” de “recursivo”."
      ]
    },
    {
      "cell_type": "code",
      "execution_count": null,
      "metadata": {
        "id": "BgpSHuPJ3sU1"
      },
      "outputs": [],
      "source": [
        "!touch temp1\n",
        "%cp temp1 temp2\n",
        "%ls -l"
      ]
    },
    {
      "cell_type": "markdown",
      "metadata": {
        "id": "PC3h6cUL4C_8"
      },
      "source": [
        "### mv → Mover\n",
        "\n",
        "Para mover o cambiar el nombre de un archivo o directorio."
      ]
    },
    {
      "cell_type": "code",
      "execution_count": null,
      "metadata": {
        "id": "Cm8mAcsd4Cku"
      },
      "outputs": [],
      "source": [
        "!mkdir temp\n",
        "!mv temp1 temp/\n",
        "!mv temp2 temp3\n",
        "!mv temp3 temp/\n",
        "!ls -l temp/"
      ]
    },
    {
      "cell_type": "markdown",
      "metadata": {
        "id": "hsUoxgtu4XMk"
      },
      "source": [
        "- El segundo comando mueve el archivo \"temp1\" al directorio \"temp\".\n",
        "\n",
        "- El tercer comando cambia el nombre del archivo \"temp2\" a \"temp3\" en el directorio actual.\n",
        "\n",
        "- El tercer comando mueve el archivo renombrado \"temp3\" al directorio \"temp\"."
      ]
    },
    {
      "cell_type": "markdown",
      "metadata": {
        "id": "8orBhZlHZ0Hj"
      },
      "source": [
        "### Comando compuesto: descargar y descomprimir\n",
        "\n",
        "El siguiente comando descargará y descomprimirá un archivo ZIP que contiene los archivos que usaremos en nuestros ejemplos."
      ]
    },
    {
      "cell_type": "code",
      "execution_count": null,
      "metadata": {
        "id": "8FsDUDXAqGXr"
      },
      "outputs": [],
      "source": [
        "!wget https://github.com/diseasesdetectives/Curso_Bioinformatica_para_profesionales_de_la_salud_publica/raw/master/data_curso/Modulo_0/Data_Modulo_0.zip\n",
        "!unzip Data_Modulo_0.zip"
      ]
    },
    {
      "cell_type": "markdown",
      "metadata": {
        "id": "eFOXjW2Pap95"
      },
      "source": [
        "El comando *wget* es un cliente *web*, es decir, *descarga* archivos disponibles en Internet. Su función es, por tanto, la misma que la de un navegador, pero sin interfaz gráfica.\n",
        "\n",
        "El comando *unzip*, ejecutado a continuación, descomprime el archivo descargado por *wget*, creando el directorio *exercises*."
      ]
    },
    {
      "cell_type": "markdown",
      "metadata": {
        "id": "LLYLZmZp4x9X"
      },
      "source": [
        "## Ver y extraer contenido de archivos\n",
        "### cat → Concatenar\n",
        "El comando concatenar combina archivos (secuencialmente) e imprime el contenido en la salida estándar, que es la ventana de terminal o la celda en el *cuaderno*."
      ]
    },
    {
      "cell_type": "code",
      "execution_count": 34,
      "metadata": {
        "id": "pA--U9Yq4-Xy"
      },
      "outputs": [],
      "source": [
        "!cat Data_Modulo_0/Exercises/MH500035.1_cds_QBH72480.1_1.fa Data_Modulo_0/Exercises/MH500037.1_cds_QBH72482.1_1.fa Data_Modulo_0/Exercises/EU727160.1_cds_ACE06988.1_1.fa > all_cat.fasta"
      ]
    },
    {
      "cell_type": "markdown",
      "metadata": {
        "id": "VrR_apXW5Fqa"
      },
      "source": [
        "### Comando less\n",
        "*less* se utiliza para ver el contenido de los archivos y es más rápido con archivos grandes que los editores de texto.\n",
        "\n",
        "Haga clic en la última línea (abajo) del contenido generado, y presione \"Entrar\" para ver una línea más o TAB+Entrar para ver varias líneas.\n",
        "\n",
        "Para terminar, escriba “q” y luego \"Enter\".\n",
        "\n",
        "En la terminal es menos ágil y no siempre es necesario darle Enter."
      ]
    },
    {
      "cell_type": "code",
      "execution_count": null,
      "metadata": {
        "id": "9ziSK7QM5F5I"
      },
      "outputs": [],
      "source": [
        "!less /content/all_cat.fasta"
      ]
    },
    {
      "cell_type": "markdown",
      "metadata": {
        "id": "krrjHAKj5RSn"
      },
      "source": [
        "### head y tail\n",
        "\n",
        "Estos comandos muestran las primeras líneas (head) y las últimas 10 líneas (tail) de un archivo."
      ]
    },
    {
      "cell_type": "code",
      "execution_count": null,
      "metadata": {
        "id": "IidONJu75Rh-"
      },
      "outputs": [],
      "source": [
        "!head /content/all_cat.fasta"
      ]
    },
    {
      "cell_type": "code",
      "execution_count": null,
      "metadata": {
        "id": "pvPAWzgSqEj9"
      },
      "outputs": [],
      "source": [
        "!tail /content/all_cat.fasta"
      ]
    },
    {
      "cell_type": "markdown",
      "metadata": {
        "id": "q97V2_Wtkc0L"
      },
      "source": [
        "## Comandos para processamento de texto\n",
        "### Comando cut\n",
        "\n",
        "El comando cortar es una utilidad de línea de comandos para cortar una sección de un archivo de texto. La sección se puede seleccionar especificando el rango de caracteres deseado o los campos (columnas) definidos por un separador. Para cortar una sección del archivo, use \"-c\" (caracteres)"
      ]
    },
    {
      "cell_type": "code",
      "execution_count": null,
      "metadata": {
        "id": "ekXRHGlIkdDP"
      },
      "outputs": [],
      "source": [
        "!cut -c 1-10 /content/all_cat.fasta"
      ]
    },
    {
      "cell_type": "markdown",
      "metadata": {
        "id": "wxIjjGfqku5_"
      },
      "source": [
        "La opción \"-c 1-10\" extraerá los primeros 10 caracteres de cada línea del archivo de entrada.\n",
        "\n",
        "Otras opciones:\n",
        "* -c: recorte basado en la posición del carácter\n",
        "* -d: recorte basado en el delimitador\n",
        "* -f: número de campo\n",
        "\n",
        "Tenemos un archivo llamado “human_viruses.txt” con todos los nombres de los virus, los identificadores del genbank y el tamaño del genoma. Estos campos están separados por el símbolo “|”."
      ]
    },
    {
      "cell_type": "code",
      "execution_count": null,
      "metadata": {
        "id": "pVQl00KflBcs"
      },
      "outputs": [],
      "source": [
        "!head /content/Data_Modulo_0/human_viruses.txt"
      ]
    },
    {
      "cell_type": "markdown",
      "metadata": {
        "id": "37A3OvYxlFJp"
      },
      "source": [
        "Para obtener solo el número de acceso de cada virus en el genbank, escriba el siguiente comando."
      ]
    },
    {
      "cell_type": "code",
      "execution_count": null,
      "metadata": {
        "id": "Z7BTKK2ClK7w"
      },
      "outputs": [],
      "source": [
        "!cut -d \"|\" -f4 /content/Data_Modulo_0/human_viruses.txt"
      ]
    },
    {
      "cell_type": "markdown",
      "metadata": {
        "id": "aBxlKKjQlPFX"
      },
      "source": [
        "### Comando sort\n",
        "\n",
        "El comando ordenar se utiliza para ordenar el contenido de entrada.\n",
        "\n",
        "Al igual que el comando **cortar**, ordenar trata el archivo como una tabla.\n",
        "\n",
        "El separador de columnas predeterminado es el tabulador (TAB).\n",
        "\n",
        "Algunas opciones:\n",
        "\n",
        "* -t Especificar separador de campo\n",
        "* -n Aplicar orden numérico\n",
        "* -k Elige el campo para ordenar\n",
        "* -r Forzar orden invertido (Z a A o 9 a 0)\n",
        "* -u No imprimir entradas repetidas"
      ]
    },
    {
      "cell_type": "code",
      "execution_count": null,
      "metadata": {
        "id": "yyF9F03hlY4r"
      },
      "outputs": [],
      "source": [
        "!sort -t \"|\" -nrk6 /content/Data_Modulo_0/human_viruses.txt"
      ]
    },
    {
      "cell_type": "markdown",
      "metadata": {
        "id": "XE0b15qUle0Z"
      },
      "source": [
        "### Comando grep\n",
        "\n",
        "El comando *grep* busca patrones en archivos de texto.\n",
        "\n",
        "La especificación del patrón puede ser literal (solo el texto mecanografiado) o utilizar el lenguaje de expresiones regulares, que es capaz de identificar variaciones o patrones, en lugar de un solo texto.\n",
        "\n",
        "Algunas opciones:\n",
        "\n",
        "* -A X: incluye X líneas antes de la línea que contiene el patrón buscado\n",
        "* -B Y: incluye líneas Y antes de la línea que contiene el patrón buscado\n",
        "* -C Z: incluye líneas Y antes y después de la línea que contiene el patrón\n",
        "* -c: cuenta el número de líneas que contienen el patrón\n",
        "* -l: solo enumera archivos coincidentes\n",
        "* -i: trata las mayúsculas y las minúsculas como iguales\n",
        "* -o: imprime solo el texto correspondiente, en lugar de la línea completa\n",
        "* -v: coincidencia inversa: imprime líneas sin el patrón\n",
        "* -w: requiere palabras completas para coincidir con el patrón\n",
        "\n",
        "Para obtener la lista de todos los virus de la hepatitis en human_viruses.txt, escriba el siguiente comando."
      ]
    },
    {
      "cell_type": "code",
      "execution_count": null,
      "metadata": {
        "id": "EgNQS11elod1"
      },
      "outputs": [],
      "source": [
        "!grep \"Hepatitis\" /content/Data_Modulo_0/human_viruses.txt\n"
      ]
    },
    {
      "cell_type": "markdown",
      "metadata": {
        "id": "MQN60dA9lrfV"
      },
      "source": [
        "### Comando wc\n",
        "\n",
        "El comando “wc” (**palabra **contador) se puede utilizar para contar líneas, palabras o caracteres.\n",
        "\n",
        "-l (líneas)\n",
        "\n",
        "-w (palabras)\n",
        "\n",
        "-m (caracteres)\n",
        "\n",
        "\n",
        "\n",
        "Cuente las líneas en el archivo human_viruses.txt"
      ]
    },
    {
      "cell_type": "code",
      "execution_count": null,
      "metadata": {
        "id": "ZgPEG2E_lzoL"
      },
      "outputs": [],
      "source": [
        "!wc -l /content/Data_Modulo_0/human_viruses.txt"
      ]
    },
    {
      "cell_type": "markdown",
      "metadata": {
        "id": "9HO9XAdsmo2a"
      },
      "source": [
        "Otros comandos de procesamiento de texto que vale la pena considerar son: uniq, tr, rev, sed y paste."
      ]
    },
    {
      "cell_type": "markdown",
      "metadata": {
        "id": "aM3-zZmQnXpK"
      },
      "source": [
        "## Construcción de Pipes"
      ]
    },
    {
      "cell_type": "markdown",
      "metadata": {
        "id": "BoIkOMprnXyR"
      },
      "source": [
        "\"Piping\" es una forma muy poderosa y eficiente de combinar comandos. Una \"tubería\" (|) actúa como una conexión que redirige la salida estándar del primer comando a la entrada del siguiente comando. No hay límites en la cantidad de comandos que podemos conectar usando \"tuberías\". Garantizan el buen funcionamiento del flujo de comandos y reducen el tiempo de ejecución, ya que ejecutan programas en paralelo, cuando es posible.\n",
        "\n",
        "Para imprimir los 10 virus más pequeños, ejecute el siguiente comando."
      ]
    },
    {
      "cell_type": "code",
      "execution_count": null,
      "metadata": {
        "id": "hUk3EKpXnn__"
      },
      "outputs": [],
      "source": [
        "!sort -t \"|\" -nk6 /content/Data_Modulo_0/human_viruses.txt | head -10"
      ]
    },
    {
      "cell_type": "markdown",
      "metadata": {
        "id": "W79G_y1Sl5hg"
      },
      "source": [
        "### Ejemplo con *uniq*\n",
        "\n",
        "El comando *uniq* elimina líneas repetidas de la entrada. Este comando se usa a menudo en combinación con *sort*, porque *uniq* solo detecta líneas repetidas que son adyacentes.\n",
        "\n",
        "Para ver la lista de países que tuvieron un brote en 2021:"
      ]
    },
    {
      "cell_type": "code",
      "execution_count": null,
      "metadata": {
        "id": "M1LxQw2rmUbH"
      },
      "outputs": [],
      "source": [
        "!cut -d, -f3 /content/Data_Modulo_0/outbreak.csv | sort | uniq"
      ]
    },
    {
      "cell_type": "markdown",
      "metadata": {
        "id": "iZ67Ig7rnziY"
      },
      "source": [
        "## Control de processos\n",
        "\n",
        "Algunos comandos toman tiempo para completar el trabajo asignado. Por ejemplo, si desea comprimir un archivo enorme con el comando gzip que tarda unos minutos en terminar de ejecutarse, puede ejecutarlo en segundo plano agregando al comando \"&\" (Otra forma es suspender un comando presionando Ctrl +Z y escribiendo “bg”). En la terminal, la finalización de la tarea se indica con \"Listo\"."
      ]
    },
    {
      "cell_type": "code",
      "execution_count": 48,
      "metadata": {
        "id": "I_90Qp2oo9zt"
      },
      "outputs": [],
      "source": [
        "!gzip all_cat.fasta &\n",
        "!ls"
      ]
    },
    {
      "cell_type": "markdown",
      "metadata": {
        "id": "Lq1ow6eopCjk"
      },
      "source": [
        "Debería poder visualizar el archivo all_cat.txt comprimido (.gz)\n",
        "\n",
        "Podemos obtener la lista de trabajos que se ejecutan en la terminal mediante el comando 'jobs'. Esto le proporcionará todos los trabajos en segundo plano que se ejecutan en la terminal actual. Si desea ver todos los procesos que se ejecutan en el sistema, utilice 'ps auxwww'."
      ]
    },
    {
      "cell_type": "code",
      "execution_count": null,
      "metadata": {
        "id": "zb91KCGVpF0a"
      },
      "outputs": [],
      "source": [
        "!ps auxwww"
      ]
    },
    {
      "cell_type": "markdown",
      "metadata": {
        "id": "SaowKoH3pZij"
      },
      "source": [
        "En la salida *ps*:\n",
        "\n",
        "* La columna PID contiene el número que identifica cada proceso en ejecución;\n",
        "* La columna COMANDO muestra el comando ejecutado\n",
        "* La columna STAT muestra el estado del proceso, que puede ser:\n",
        "> D = suspensión ininterrumpida, esperando disco\n",
        ">\n",
        "> R = activo, en ejecución\n",
        ">\n",
        "> S = durmiendo, ejecución suspendida temporalmente\n",
        ">\n",
        "> T = detenido por una señal\n",
        ">\n",
        "> Z = zombie, terminación incompleta\n",
        "\n",
        "Si desea detener un trabajo que se ejecuta en segundo plano, utilice el comando 'kill' seguido del ID del proceso.\n",
        "\n",
        "matar 49014\n",
        "\n",
        "Este comando finaliza el trabajo con ID de proceso 49014. Como usuario, solo puede finalizar sus trabajos. No tiene permiso para ejecutar este comando en los ID de proceso de otros usuarios."
      ]
    },
    {
      "cell_type": "markdown",
      "metadata": {
        "id": "971FGhBBLjJv"
      },
      "source": [
        "# Preguntas practicas\n",
        "Responda las siguientes preguntas en los bloques de código a continuación\n",
        "\n",
        "1. Cree un directorio llamado my_new_directory\n",
        "2. Cree un archivo llamado my_new_file.txt en my_new_directory\n",
        "3. ¿Cuál es la ruta absoluta al my_new_file.txt recién creado?\n",
        "\n"
      ]
    },
    {
      "cell_type": "code",
      "execution_count": null,
      "metadata": {
        "id": "n3o_SjC2L4KG"
      },
      "outputs": [],
      "source": [
        "# 1. Crea un directorio llamado my_new_directory\n",
        "# entra tu codigo abajo"
      ]
    },
    {
      "cell_type": "code",
      "execution_count": null,
      "metadata": {
        "id": "DcWtwQR8L8jh"
      },
      "outputs": [],
      "source": [
        "# 2. Cree un archivo llamado my_new_file.txt en my_new_directory\n",
        "# entra tu codigo abajo"
      ]
    },
    {
      "cell_type": "code",
      "execution_count": null,
      "metadata": {
        "id": "yLfNEOo2MjAk"
      },
      "outputs": [],
      "source": [
        "# 3. ¿Cuál es la ruta absoluta al my_new_file.txt recién creado?\n",
        "# entra tu codigo abajo"
      ]
    },
    {
      "cell_type": "markdown",
      "metadata": {
        "id": "1IEOrNcBvV-J"
      },
      "source": [
        "# Ejercicios:\n",
        "1. Navegue hasta el directorio Ejercicios: (/content/Data_Modulo_0/Exercises)\n",
        "2. Extraiga las primeras 15 líneas del archivo “HM067743.1_cds_ADQ37313.1_1.fa” y guarde el resultado en “output.fa”\n",
        "3. ¿Cuántos archivos fasta hay en el directorio?\n",
        "4. Extraiga todas las líneas de encabezado del archivo all.fa.\n",
        "5. ¿Cuántas secuencias hay en el archivo all.fa?\n",
        "6. Obtenga la lista de países (excluidos los brotes en varios países) que tuvieron un brote en 2022 (Entrada: /content/Data_Modulo_0/outbreak.csv)\n",
        "7. Encuentre la cantidad de brotes (excluya los brotes en varios países utilizando grep de coincidencia inversa (-v)) en cada mes de 2022."
      ]
    },
    {
      "cell_type": "code",
      "execution_count": null,
      "metadata": {
        "id": "qLknepLivnJD"
      },
      "outputs": [],
      "source": [
        "#Utilice este espacio para practicar su código y responder las preguntas de los ejercicios anteriores.\n",
        "#Siéntete libre de agregar más bloques de código si es necesario usando el botón +Código en la parte superior de la página."
      ]
    },
    {
      "cell_type": "markdown",
      "metadata": {
        "id": "jlju4Um5PUDP"
      },
      "source": [
        "# Más consejos\n",
        "\n",
        "## Atajos de línea de comando\n",
        "* (T) Flechas arriba/abajo: comandos anteriores\n",
        "*(T)!!: Ejecuta nuevamente el comando anterior\n",
        "*Pestaña (T): Autocompletar\n",
        "* (T) Tab+Tab: Todas las opciones disponibles\n",
        "* (B) Ctrl+a: Mueve el cursor al principio de la línea\n",
        "* (B) Ctrl+e: Mueve el cursor al final de la línea\n",
        "* (T) Alt+: Cambiar entre terminales\n",
        "* (T) Ctrl+l: Borrar pantalla (o Comando+k en Mac)\n",
        "* (T) Ctrl+c: Cierra el programa en ejecución\n",
        "* (T) Ctrl+z: Suspende el programa en ejecución\n",
        "* (T) Ctrl+w: Elimina la palabra anterior\n",
        "* (T) Ctrl+d: Cierra el *shell* y sale de la terminal\n",
        "* (B) Ctrl+d (en un comando): Elimina un carácter\n",
        "* (T) Ctrl+u: Eliminar al principio\n",
        "\n",
        "   Subtitular:\n",
        "   *T: Terminal\n",
        "   *N: *Cuaderno*\n",
        "   * B: Terminal y *Notebook*"
      ]
    },
    {
      "cell_type": "markdown",
      "metadata": {
        "id": "k-GU1-_U5l-w"
      },
      "source": [
        "## Editor de archivos\n",
        "\n",
        "Hay muchos editores de texto no gráficos como ed, emacs, vi y nano, todos est'an disponibles en la mayoría de las distribuciones de Linux. Algunos de ellos son muy sofisticados, como vi, y se recomiendan sólo para usuarios avanzados.\n",
        "\n",
        "Nano, antes llamado pico, es como cualquier editor gráfico sin ratón. Todos los comandos se ejecutan mediante el teclado, con la tecla modificadora Control (CTRL, Comando en Mac).\n",
        "\n",
        "El comando \"nano\" abre el editor y \"nano file.txt\" abre el editor con el archivo.txt ya cargado. En la parte inferior de la pantalla, hay comandos con un signo de intercalación delante (**^**). El cursor le indica que debe mantener presionada la tecla Control (Ctrl) y luego presionar la letra correspondiente al comando que desea usar.\n",
        "Ctrl+X, por ejemplo, saldrá de nano y volverá a la línea de comando.\n",
        "\n",
        "Referencia rápida nano\n",
        "\n",
        "* Ctrl+X: Salir del editor. Si editaste el texto sin guardarlo, nano te preguntará si realmente quieres salir y cuál es el nombre del archivo.\n",
        "* Ctrl+O: Escribe el contenido actual en un archivo. nano le pedirá el nombre del archivo y podrá presionar Ctrl+T para abrir el explorador de archivos que se muestra arriba.\n",
        "* Ctrl+R: Leer un archivo de texto en la sesión de edición actual. Cuando se le solicite el nombre del archivo, presione Ctrl+T para el explorador de archivos.\n",
        "* Ctrl+K: Corta la línea donde está el cursor y coloca el contenido en el nano portapapeles. Puede presionar repetidamente para copiar varias líneas, que se almacenan como un bloque.\n",
        "* Ctrl+J: ajusta un párrafo de texto al tamaño de la ventana. De forma predeterminada, esto redistribuye el texto para que coincida con el ancho de la ventana de edición.\n",
        "* Ctrl+U: Pega texto del portapapeles en la línea actual.\n",
        "* Ctrl+T: Revisa la ortografía, usando el comando *spell*.\n",
        "* Ctrl+W: busca una palabra o frase. Utilice las flechas hacia arriba y hacia abajo para desplazarse por los términos de búsqueda anteriores o presione Ctrl+R para ingresar al modo de reemplazo. Alternativamente, puede presionar Ctrl+T para ir a una línea específica.\n",
        "* Ctrl+C: Muestra el número de línea actual y la información del archivo.\n",
        "* Ctrl+G: Obtener ayuda. proporciona información sobre la navegación por archivos y comandos de teclado comunes."
      ]
    },
    {
      "cell_type": "markdown",
      "metadata": {
        "id": "BCNxKXr6eo4F"
      },
      "source": [
        "## **Créditos:**\n",
        "Algunos de los ejercicios presentados fueron adaptados de curso previos del programa COG-TRAIN del Wellcome Connection Science\n",
        "\n",
        "https://github.com/khourious/IGM-TRAIN.git\n",
        "\n",
        "https://github.com/WCSCourses/SARS-COV-2_B4B.git"
      ]
    }
  ],
  "metadata": {
    "colab": {
      "provenance": []
    },
    "kernelspec": {
      "display_name": "Python 3",
      "name": "python3"
    },
    "language_info": {
      "name": "python"
    }
  },
  "nbformat": 4,
  "nbformat_minor": 0
}