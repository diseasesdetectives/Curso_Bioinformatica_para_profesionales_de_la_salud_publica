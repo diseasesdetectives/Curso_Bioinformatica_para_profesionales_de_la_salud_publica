{
  "cells": [
    {
      "cell_type": "markdown",
      "metadata": {
        "id": "IKicd0yBmBZQ"
      },
      "source": [
        "# Curso de bioinformática para profesionales de la salud: Patógenos respiratorios\n",
        "\n",
        "\n",
        "## Práctica Módulo 0. Introducción a sistemas operativos y lenguaje\n",
        "\n",
        "\n",
        "## 1. Instalación la plataforma conda/mamba\n",
        "\n",
        "###\"Conda es un gestor de paquetes y ambientes desde la línea de commando. 250 paquetes de instalación automática que trabajan bien fuera de la caja. Acceso al repositorio público de Anaconda con 8000 paquetes de libre acceso en areas como data science y machine learning. Anaconda se distribuye gratuitamente, fácil de instalar y ofrece una comunidad de desarrollo como soporte\"."
      ]
    },
    {
      "cell_type": "code",
      "execution_count": null,
      "metadata": {
        "id": "wl3p0egFyGSp"
      },
      "outputs": [],
      "source": [
        "#Instale de la plataforma conda/mamba y dependencias de conda/mamba en colab\n",
        "#!pip install -q condacolab\n",
        "#Instalación cuda-version-12 para resolver error cuda_12.2.*\n",
        "!pip install -U https://github.com/conda-incubator/condacolab/archive/cuda-version-12.tar.gz\n",
        "import condacolab\n",
        "condacolab.install()\n",
        "!pip install --upgrade --force-reinstall zstandard"
      ]
    },
    {
      "cell_type": "code",
      "execution_count": null,
      "metadata": {
        "id": "4ZSWfb_d4KgG"
      },
      "outputs": [],
      "source": [
        "import condacolab\n",
        "condacolab.install()\n",
        "!pip install --upgrade --force-reinstall zstandard"
      ]
    },
    {
      "cell_type": "markdown",
      "source": [
        "### \"Mamba es una herramienta en la interfase de línea de comando (CLI) para la gestión de ambientes conda. Si ha usado conda, genial ya conoce mamba!. Si eres nuevo en este mundo bioinfo, no entres en pánico, vas a encontrar todo lo necesario en la documentación\". Mamba viene instalada por defecto en la versión actual de google Colab, compruébelo."
      ],
      "metadata": {
        "id": "C6La7j91fHtH"
      }
    },
    {
      "cell_type": "code",
      "execution_count": null,
      "metadata": {
        "id": "DryudzMKoVWa"
      },
      "outputs": [],
      "source": [
        "#Revise la lista de ambientes que vienen por defecto en conda/mamba\n",
        "!mamba env list"
      ]
    },
    {
      "cell_type": "markdown",
      "metadata": {
        "id": "vjhp0-291Fvc"
      },
      "source": [
        "###Para más información consulte la documentación:\n",
        "\n",
        "[conda](https://conda.io/projects/conda/en/latest/user-guide/install/index.html)\n",
        "\n",
        "[mamba](https://mamba.readthedocs.io/en/latest/)"
      ]
    },
    {
      "cell_type": "markdown",
      "metadata": {
        "id": "KzvkamPgPPzV"
      },
      "source": [
        "##2. Cree un ambiente conda/mamba con los programas  necesarios para realizar el ejercicio de control de calidad de las secuencias\n",
        "\n",
        "### \"Con conda/mamba usted puede crear, exportar, listar, remover y actualizar ambientes que tienen diferentes versiones de Python y/o paquetes bioinformáticos instalados. Cargar y moverse entre diferentes ambientes se llama activar un ambiente. Usted puede támbien compartir con otros el ambiente en un archivo para que sea construido en cualquier lugar en el mundo.\"\n"
      ]
    },
    {
      "cell_type": "code",
      "execution_count": null,
      "metadata": {
        "id": "GCuIAgaz91nB"
      },
      "outputs": [],
      "source": [
        "#Cree un nuevo ambiente conda/mamba\n",
        "!mamba create -n mi_ambiente"
      ]
    },
    {
      "cell_type": "code",
      "execution_count": null,
      "metadata": {
        "id": "wDQlG9MmCpoM"
      },
      "outputs": [],
      "source": [
        "#Revise que el ambiente fue creado y se encuentra en la lista\n",
        "!mamba env list"
      ]
    },
    {
      "cell_type": "code",
      "execution_count": null,
      "metadata": {
        "id": "0Ov3SpR2xUuM"
      },
      "outputs": [],
      "source": [
        "#Active el ambiente que acabo de crear\n",
        "!mamba activate mi_ambiente"
      ]
    },
    {
      "cell_type": "code",
      "execution_count": null,
      "metadata": {
        "id": "m2EVifBvxHjl"
      },
      "outputs": [],
      "source": [
        "#Revise en el listado de programas por defecto\n",
        "!mamba list"
      ]
    },
    {
      "cell_type": "markdown",
      "source": [
        "###EJERCICIO: Que programas usa regularmente en sus análisis bioinformático..\n",
        "\n",
        "1. Elija 3 programas que use regularmente en análisis bioinformático\n",
        "1. Verifique en el código conda y el canal de conexión en internet\n",
        "1. Adicione el nombre del programa después del canal \"-c bioconda\""
      ],
      "metadata": {
        "id": "LpCUTMsHXW5u"
      }
    },
    {
      "cell_type": "code",
      "execution_count": null,
      "metadata": {
        "id": "LY9yD4U1sysy"
      },
      "outputs": [],
      "source": [
        "#Instale las dependencias necesarias para los pasos posteriores de control de calidad de secuencias\n",
        "#conda-forge y bioconda son canales donde se enecuentran herramientas y programas\n",
        "\n",
        "!mamba install -c bioconda  --quiet"
      ]
    },
    {
      "cell_type": "code",
      "execution_count": null,
      "metadata": {
        "id": "nVjq1O5uwyJ1"
      },
      "outputs": [],
      "source": [
        "#Verifique en el listado que se encuentren los programas elegidos por usted\n",
        "!mamba list"
      ]
    },
    {
      "cell_type": "markdown",
      "metadata": {
        "id": "x4GqKa8tPLt4"
      },
      "source": [
        "##3. Verifique que los programas son funcionales en su ambiente\n"
      ]
    },
    {
      "cell_type": "code",
      "execution_count": null,
      "metadata": {
        "id": "FGB-eg8gDlj1"
      },
      "outputs": [],
      "source": [
        "#Compruebe programa 1. Debe escribir el comando de ejecución de cada programa seguido (-h) (ej. fastqc -h)\n",
        "!"
      ]
    },
    {
      "cell_type": "code",
      "execution_count": null,
      "metadata": {
        "id": "ajp4-moZDMsE"
      },
      "outputs": [],
      "source": [
        "#Compruebe programa 2\n",
        "!"
      ]
    },
    {
      "cell_type": "code",
      "source": [
        "#Compruebe programa 3\n",
        "!"
      ],
      "metadata": {
        "id": "ENJV_dYvY0o7"
      },
      "execution_count": null,
      "outputs": []
    }
  ],
  "metadata": {
    "colab": {
      "provenance": []
    },
    "kernelspec": {
      "display_name": "Python 3",
      "name": "python3"
    },
    "language_info": {
      "name": "python"
    }
  },
  "nbformat": 4,
  "nbformat_minor": 0
}