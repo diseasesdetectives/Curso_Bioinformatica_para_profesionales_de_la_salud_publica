{
  "nbformat": 4,
  "nbformat_minor": 0,
  "metadata": {
    "kernelspec": {
      "display_name": "R",
      "name": "ir"
    },
    "language_info": {
      "codemirror_mode": "r",
      "file_extension": ".r",
      "mimetype": "text/x-r-source",
      "name": "R",
      "pygments_lexer": "r",
      "version": "4.0.5"
    },
    "colab": {
      "provenance": []
    }
  },
  "cells": [
    {
      "cell_type": "markdown",
      "source": [
        "#Curso de bioinformática para profesionales de la salud pública: Enfrentando patógenos respiratorios\n"
      ],
      "metadata": {
        "id": "amgNfMSBlXMo"
      }
    },
    {
      "cell_type": "markdown",
      "metadata": {
        "collapsed": false,
        "id": "g-1EX1EjUnB_"
      },
      "source": [
        "# Módulo 3. Integración de metadata y datos genómicos - R\n"
      ]
    },
    {
      "cell_type": "markdown",
      "metadata": {
        "collapsed": false,
        "id": "_FCJFBrqUnCG"
      },
      "source": [
        "###R es un potente entorno de software para análisis de datos, gráficos y, especialmente, análisis estadístico. Está disponible de forma gratuita en www.r-project.org con binarios de fácil instalación para Linux, MacOS y Windows. Este cuaderno proporciona una introducción a R y a un proceso de integración de 'dataframes'."
      ]
    },
    {
      "cell_type": "markdown",
      "metadata": {
        "collapsed": false,
        "id": "f4ZwVqeEUnCH"
      },
      "source": [
        "##1. Abra el notebook desde su cuenta en colab\n",
        "\n",
        "###Llame desde Google's Colaboratory (https://colab.research.google.com) el notebook R \"directorio_notebooks/Modulo_3/R.ipynb\" desde el repositorio del curso(https://github.com/diseasesdetectives/Curso_Bioinformatica_para_profesionales_de_la_salud_publica)\n",
        "\n",
        "\n",
        "###Luego de abrirlo recuerde hacer una copia de\n"
      ]
    },
    {
      "cell_type": "markdown",
      "metadata": {
        "collapsed": false,
        "id": "W9c2hitGUnCH"
      },
      "source": [
        "###Alguna información operativa básica:\n",
        "\n",
        "###- R tiene >100.000 'funciones' que realizan diversas tareas. Cada función utiliza corchetes () para enumerar argumentos y parámetros.\n",
        "\n",
        "###- Cada función tiene una página de 'ayuda(fn)' que indica cómo se usa, qué operación se ejecuta y qué resultado produce con referencias y ejemplos que se pueden cortar y pegar en una consola R. Es esencial que los programadores de R, tanto principiantes como experimentados, lean los archivos de ayuda.\n",
        "\n",
        "###- Una almohadilla ( # ) indica comentarios dentro de un script R. Un punto y coma (;) tiene la misma acción que un 'return'."
      ]
    },
    {
      "cell_type": "markdown",
      "source": [
        "##2. Entorno R en colab\n",
        "\n",
        "###Examinaremos nuestro entorno de R. *sessionInfo()* indica el sistema operativo y los paquetes básicos pre-instalados.\n",
        "\n",
        "###Pruebaremos los comandos *getwd()* y *setwd()* que son funciones comúnmente utilizadas al comienzo de una sesión.\n",
        "\n",
        "###*wd* significa 'directorio de trabajo'; Colab no permite cambiar de directorio, pero querrás crear un directorio para nuestro trabajo en tu computadora local. *library()* muestra una nueva ventana que enumera los paquetes CRAN actualmente disponibles para usted.\n",
        "\n",
        "###¡Recuerda que hay ~19000 más! Finalmente, ejecutamos *citation()* que le da la cita a R para las publicaciones. Cada paquete CRAN tiene una *citación(paquete)* correspondiente que debe usarse para las publicaciones."
      ],
      "metadata": {
        "id": "96opTdEahmMu"
      }
    },
    {
      "cell_type": "code",
      "metadata": {
        "id": "rrFK4kPWUnCI",
        "collapsed": true
      },
      "source": [
        "# Revisa la información de su sessión actual\n",
        "\n",
        "sessionInfo()"
      ],
      "execution_count": null,
      "outputs": []
    },
    {
      "cell_type": "code",
      "source": [
        "getwd()                     # Revise el directorio de trabajo.\n",
        "#setwd('/Users/ericfeigelson/Desktop/Rdir')  # Este comando es para cambiar el directorio de trabajo\n",
        "#getwd()                     # Confirmar el cambio de la dirección del directorio"
      ],
      "metadata": {
        "id": "NJJBawVQjKaP"
      },
      "execution_count": null,
      "outputs": []
    },
    {
      "cell_type": "code",
      "metadata": {
        "id": "RV6FEm_xUnCJ"
      },
      "source": [
        "library()                   # Despliega los programas actualemente instaldos\n",
        "                            # ~30 programas están pre-instalados en R\n"
      ],
      "execution_count": null,
      "outputs": []
    },
    {
      "cell_type": "code",
      "source": [
        "citation()                  # Use esta citación cuando use R"
      ],
      "metadata": {
        "id": "xHb4_pN_ngC8"
      },
      "execution_count": null,
      "outputs": []
    },
    {
      "cell_type": "markdown",
      "source": [
        "##3. Crear objetos dentro de R y reconozca los index\n",
        "\n",
        "###Cree un objeto simple en R (vector de cuatro números enteros) y funciones que indican sus características. *ls()* es útil para ver qué objetos hay en su sesión actual.\n",
        "\n",
        "###La función *str* es muy útil para ver la estructura de objetos R complejos producidos por funciones estadísticas avanzadas.\n",
        "\n",
        "###**Tenga en cuenta que el contenido de un objeto se muestra en la consola con solo indicar su nombre**\n",
        "\n",
        "###La función *cat* ofrece una forma más elegante de mostrar en la consola.\n",
        "\n",
        "###*escribir* y *guardar* los objetos R de su sesión en su disco en formatos ASCII y binario respectivamente.\n",
        "\n",
        "###Los vectores y matrices de R comienzan en el índice 1, a diferencia de Python, donde el primer elemento tiene el índice 0.\n",
        "\n",
        "###Esta incompatibilidad puede complicar los programas que entrelazan los dos lenguajes.\n"
      ],
      "metadata": {
        "id": "7WdmwwGSjWE_"
      }
    },
    {
      "cell_type": "code",
      "metadata": {
        "id": "cqdb23DtUnCJ"
      },
      "source": [
        "#Cree y caracterice un vector\n",
        "\n",
        "a <- c(33, 44, 92, 58)      # combine los numeros dentro de un vector\n",
        "length(a)\n",
        "sum(a)\n",
        "median(a)  ;  mad(a)\n",
        "ls()                        # liste los nombres de los objetos en su ambiente\n",
        "class(a)                    # Determine la clase de objeto R\n",
        "str(a)                      # Determine la estructura del objeto R\n",
        "summary(a)                  # Muchos objetos R tienen una función 'summary'"
      ],
      "execution_count": null,
      "outputs": []
    },
    {
      "cell_type": "code",
      "metadata": {
        "id": "I3ZS9Gf-UnCK"
      },
      "source": [
        "a                           # Mostrar el contenido de un objeto R\n",
        "# Anote un mensaje en la consola  REl símbolo \\n lleva acabo un 'return'.\n",
        "cat('Sum of ', length(a), ' elements in the vector a = ', sum(a), '\\n')\n",
        "\n",
        "write(file='output', a)     # Guarde en formato ASCII un objeto R en el directorio de trabajo\n",
        "save(file='output_bin', a)  # Guarde en formato binario\n",
        "Save(file='output_bin', a)  # error porqure 'Save' no es una función conocida.\n",
        "                            # Recuerde que R es sensible a las mayusculas. ***TO DO** Ajuste y vuelva a correr"
      ],
      "execution_count": null,
      "outputs": []
    },
    {
      "cell_type": "code",
      "metadata": {
        "id": "1rmy1In3UnCL"
      },
      "source": [
        "# Manejo de índices en los vectores\n",
        "\n",
        "a[1:4]          # Muestra todos los 4 elemntos del vector\n",
        "a[3]            # Observe que los vectores inician con index 1 y no 0, como en Python\n",
        "a > 40          # Una operación lógica\n",
        "sum(a[a>40])    # Observe como se pueden usar referencia propias de un objeto R dentro de una ecuación\n",
        "which.max(a)    # R tiene muchas funciones de construcción en los objetos\n",
        "match(44, a)"
      ],
      "execution_count": null,
      "outputs": []
    },
    {
      "cell_type": "markdown",
      "metadata": {
        "collapsed": false,
        "id": "4WDGHRRNUnCL"
      },
      "source": [
        "##4. Reconozca las clases y paquetes en R\n",
        "\n",
        "###Base-R coloca objetos en variasc clases: numérico,caracteres, lógico, vectorial, matrixal, factor, marco de datos, lista y otra docena de otros diseñados por funciones avanzadas de R y paquetes CRAN.\n",
        "\n",
        "###Las funciones *trazar, imprimir, resumir* están adaptadas a objetos de clase; ver, por ejemplo, *methods(summary)*.\n",
        "\n",
        "###Dos clases particularmente importantes son el 'data.frame' marco de lectura utilizado para datos tabulares y la 'list' utilizada como un depósito con contenido heterogéneo.\n",
        "\n",
        "###El marco de datos es una matriz bidimensional con nombres de columnas asociados. La clase de lista permite una estructura jerárquica de objetos R como escalares, vectores, matrices y atributos.\n",
        "\n",
        "###Aquí hacemos una lista jerárquica, usamos 'str' (structure) para mostrar su contenido y accedemos a un elemento de la lista usando el delimitador $."
      ]
    },
    {
      "cell_type": "code",
      "metadata": {
        "id": "KiC-8vHEUnCM"
      },
      "source": [
        "# R clases y paquetes\n",
        "\n",
        "# realice y cree un data.frame, en un arreglo 2D con nombre de columnas\n",
        "\n",
        "d <- data.frame(cbind(seq(1:4), a, a^3))  # Conecte las columnas en el data.frame\n",
        "class(d)\n",
        "names(d) <- c('ID', 'a', 'a_cubed') # Nombre las columnas en el data.frame\n",
        "d2 <- d[-4,-1]                            # Remueva la 4ta fila y la 1ra columna\n",
        "d ; d2\n",
        "write.table(d, file='d.txt', quote=FALSE, row.names=FALSE)"
      ],
      "execution_count": null,
      "outputs": []
    },
    {
      "cell_type": "code",
      "metadata": {
        "id": "AEItDAn_UnCM"
      },
      "source": [
        "# Cree y muestre una lista\n",
        "\n",
        "b_list <- list(star=c('SarsCov2', 'Influenza'), type=c('Linaje','H','N'), codigo=322)\n",
        "str(b_list)\n",
        "b_list[['type']] = list(subtype=seq(0.1:0.9, by=0.1))\n",
        "str(b_list)\n",
        "b_list$type$subtype[1:3]"
      ],
      "execution_count": null,
      "outputs": []
    },
    {
      "cell_type": "markdown",
      "metadata": {
        "collapsed": false,
        "id": "tOey_6CGUnCM"
      },
      "source": [
        "###Recuerde cuenta con más de 19 000 paquetes CRAN disponibles.\n",
        "\n",
        "###La función *install.packages()*, necesaria solo una vez, para descargar el paquete elegido desde *https://cloud.r-project.org* o un sitio espejo.\n",
        "\n",
        "###Pero el comando *library()* es utilizado frecuentemente para llevar el paquete a la sesión R actual.\n",
        "\n",
        "###Lamentablemente, Google Colaboratory no permite la instalación de nuevos paquetes por parte del usuario.\n",
        "\n",
        "###Por lo tanto, es mejor ejecutar de rutina en una consola R en su computadora local."
      ]
    },
    {
      "cell_type": "markdown",
      "source": [
        "##5. R muestra que sabe matemáticas básicas\n"
      ],
      "metadata": {
        "id": "VU8gLgEnoPOS"
      }
    },
    {
      "cell_type": "code",
      "metadata": {
        "id": "ut-dA1IMUnCO"
      },
      "source": [
        "# Aritmética, algebra, trigonometría, y formatos númericos\n",
        "\n",
        "5 + 10003\n",
        "5-3 ; 5*3 ; 5/3 ; 5^3\n",
        "x <- 5 ; y <- 3\n",
        "x+y"
      ],
      "execution_count": null,
      "outputs": []
    },
    {
      "cell_type": "code",
      "metadata": {
        "id": "wYpS8tY7UnCO"
      },
      "source": [
        "sin(0)  ; sin(pi/2)         # Observe que los ángulos están en radianes\n",
        "ang <- seq(0, pi/2, length=30)\n",
        "sin(ang)"
      ],
      "execution_count": null,
      "outputs": []
    },
    {
      "cell_type": "code",
      "metadata": {
        "id": "mGbJ2uXzUnCO"
      },
      "source": [
        "trunc(12345.6789) ; round(12345.6789)\n",
        "format(12345.6789, digits=2, scientific=TRUE)\n",
        "\n",
        "log(20)  ;  log10(20)   # log() en R es base-e. Use log10() para logaritmos base-10."
      ],
      "execution_count": null,
      "outputs": []
    },
    {
      "cell_type": "markdown",
      "source": [
        "##6. R puede usarse para ecuaciones matematicas más complejas\n",
        "\n",
        "###R se puede utilizar para cálculos basados ​​en ecuaciones analíticas de matemáticas, física o astrofísica. Aquí calculamos las distancias de luminosidad de las galaxias. Este es nuestro primer ejercicio de la función *function()*, que permite al usuario crear un nuevo procedimiento para su uso posterior. El contenido de una nueva función se encuentra entre llaves, {}, y puede ser simple o complicado.\n",
        "\n",
        "###También tenemos nuestra primera experiencia con la función de trazado bidimensional básica de R, *plot()*. Es maravillosamente útil y flexible y ofrece gráficos con calidad de publicación. Para conocer sus numerosas opciones, consulte help(par)..\n",
        "\n",
        "###¡el archivo de ayuda más largo que conozco!"
      ],
      "metadata": {
        "id": "BcMZayxTotlr"
      }
    },
    {
      "cell_type": "code",
      "metadata": {
        "id": "qhrHHou1UnCP"
      },
      "source": [
        "# Calculos de distancias entre galaxias\n",
        "\n",
        "# La `function': Observe como una función usa otra\n",
        "\n",
        "# Primero, cree un cálculo simple sin funciones\n",
        "\n",
        "z <- seq(0.0, 0.5, 0.1)\n",
        "z\n",
        "H_0 <- 68  \t \t\t               \t# km/s/Mpc,  valores Planck\n",
        "speed.light <- 3.0E5          \t# km/s\n",
        "dist <- speed.light*z / H_0     # in Mpc\n",
        "dist\n",
        "class(dist)"
      ],
      "execution_count": null,
      "outputs": []
    },
    {
      "cell_type": "markdown",
      "source": [
        "##7. Cree un grupo de datos bivariado artíficial\n",
        "\n",
        "###En forma *(x,y)* y con 500 puntos donde hay una relación no lineal entre 'x' y 'y'.\n",
        "\n",
        "###También los errores son heteroscedásticos; es decir, la dispersión en 'y' depende de la variable 'x'.\n",
        "\n",
        "###Aquí mostramos varios gráficos comunes: diagrama de dispersión, diagrama de caja, histograma y función de distribución acumulativa. Los gráficos multipanel se diseñan utilizando el parámetro de trazado *par(mfrow)*; ver *ayuda(par)*.\n",
        "\n",
        "###Los gráficos se pueden descargar al disco usando funciones como *pdf()*, *png()* y *jpeg()* donde el usuario preestablece la ventana de trazado. Pero una función conveniente es *dev.copy2pdf()* donde se descarga la ventana actual."
      ],
      "metadata": {
        "id": "iJ1QXYBS0joC"
      }
    },
    {
      "cell_type": "code",
      "metadata": {
        "id": "-u3IR1XwUnCQ",
        "collapsed": true
      },
      "source": [
        "# Examine, resuma y gráfique\n",
        "\n",
        "set.seed(1)\n",
        "x <- sample(seq(0.01, 3, length.out=500))\n",
        "y <- 0.5*x + 0.3^(x^2) + rnorm(500, mean=0, sd=(0.05*(1+x^2)))\n",
        "xy <- cbind(x, y)\n",
        "\n",
        "plot(xy, pch=20)\n",
        "summary(x) ; summary(y)   \t# Resume las propiedades del objeto R"
      ],
      "execution_count": null,
      "outputs": []
    },
    {
      "cell_type": "code",
      "metadata": {
        "id": "M67sbdDkUnCQ"
      },
      "source": [
        "par(mfrow=c(1,2))  \t\t# Cree una fígura de dos paneles\n",
        "boxplot(x,  notch=T, main='Boxplot for X')  # Revise el help(boxplot.stats) para mayor claridad\n",
        "boxplot(y,  notch=T, pch=20, cex=0.5, main='Boxplot for Y')\n",
        "dev.copy2pdf(file='box.pdf')"
      ],
      "execution_count": null,
      "outputs": []
    },
    {
      "cell_type": "code",
      "metadata": {
        "id": "Ui3EDPA3UnCQ"
      },
      "source": [
        "par(mfrow=c(1,1))\n",
        "hist(x, breaks=30, main='', xlim=range(x), ylim=c(0,100),\n",
        "     xlab='Yvar', col='royalblue4')\n",
        "hist(y, breaks=30, main='', xlab='Yvar',\n",
        "     col='#ee3b3b70', add=TRUE) # add=TRUE permite que se genere la adición del otro gráfico"
      ],
      "execution_count": null,
      "outputs": []
    },
    {
      "cell_type": "code",
      "metadata": {
        "id": "loN9vpOCUnCR"
      },
      "source": [
        "plot(ecdf(x), pch=20, cex=0.0, verticals=TRUE, main='',ylab='EDF',xlab='')\n",
        "plot(ecdf(y), pch=20, cex=0.0, verticals=TRUE, add=T)\n",
        "text(2.0,0.5,\"X\") ; text(1.4,0.8,\"Y\")             # Adicionar texto dentro de un gráfico tipo plot\n",
        "dev.copy2pdf(file='ecdf.pdf')"
      ],
      "execution_count": null,
      "outputs": []
    },
    {
      "cell_type": "markdown",
      "source": [
        "##8. Práctique más con vectores y arreglos\n",
        "\n",
        "###Demuestre cómo se pueden extraer muestras aleatorias de un conjunto de datos.\n",
        "\n",
        "###Potentes teoremas muestran que el *bootstrap resampling* aleatorio con reemplazo, a menudo puede proporcionar estimaciones confiables de intervalos de confianza para cantidades estadísticas derivadas del conjunto de datos."
      ],
      "metadata": {
        "id": "A8yklMY03dFU"
      }
    },
    {
      "cell_type": "code",
      "metadata": {
        "id": "8wNgDzsLUnCR"
      },
      "source": [
        "# Arreglos, data.frame y filtrado\n",
        "\n",
        "# xy es un `array' de números creados por `column bind'\n",
        "\n",
        "xy <- cbind(x, y)  ;  str(xy)\n",
        "\n",
        "# Un data.frame asociado a los nombres de las columnas\n",
        "\n",
        "xy <- as.data.frame(xy)\n",
        "names(xy) <- c('Xvar', 'Yvar')\n",
        "\n",
        "# Integre las filas donde el primer valor excede el valor 2\n",
        "\n",
        "high_x1 <- xy[xy[,1]>2,]\n",
        "high_x2 <- subset(xy, xy[,1]>2)\t# Otra manera para extraeer filas\n",
        "setequal(high_x1, high_x2)      # Evalue la equivalencia de los dos vectores"
      ],
      "execution_count": null,
      "outputs": []
    },
    {
      "cell_type": "code",
      "metadata": {
        "id": "qHuWXQX8UnCR"
      },
      "source": [
        "# Muestreo y 'bootstrapping'\n",
        "\n",
        "trials <- sample.int(length(xy[,1]),20) # 20 filas aleatorias\n",
        "xy[trials,]\n",
        "\n",
        "# 20 bootstrap para re-muestreo\n",
        "\n",
        "trials <- sample.int(length(xy[,1]),20, replace=T)\n",
        "xy[trials,]\n",
        "\n",
        "# Estime el error estandar de la mediana de la variable 'Y'\n",
        "\n",
        "median(xy[,2])\n",
        "\n",
        "# Calcule la mediana absoluta de desviación de la DE de la mediana.\n",
        "\n",
        "mad(xy[,2]) / sqrt(500)"
      ],
      "execution_count": null,
      "outputs": []
    },
    {
      "cell_type": "code",
      "metadata": {
        "id": "H2wHjvLBUnCS"
      },
      "source": [
        "library(boot)  \t\t\t# Esya función esta en las librerias de base-R\n",
        "med <- function(x,index){ median(x[index]) }\n",
        "\n",
        "# Revise el 'help(boot)' para mayor comprensión de la estructura de la lista\n",
        "\n",
        "boot(xy[,2], med, R=1000) # Bootstrap estima la mediana DE.\n",
        "hist(boot(xy[,2], med, R=1000)$t, breaks=50, #Gráfique\n",
        "     xlab='Bootstrap median of Yvar')"
      ],
      "execution_count": null,
      "outputs": []
    },
    {
      "cell_type": "markdown",
      "source": [
        "##9. Práctique los plots bivariados y muestre sus diferentes médidas de correlación.\n",
        "\n",
        "###Debe generar la probabilidad de relación entre las variables *x* e *y*.\n",
        "\n",
        "###El coeficiente de correlación de Pearson se utiliza habitualmente, pero es limitado: supone una relación lineal y requiere errores gaussianos homocedásticos.\n",
        "\n",
        "###El coeficiente tau de Kendall no paramétrico no hace suposiciones y, por lo tanto, es más útil en general."
      ],
      "metadata": {
        "id": "lVa4nFvV4YAs"
      }
    },
    {
      "cell_type": "code",
      "metadata": {
        "id": "FcTA6VYIUnCS"
      },
      "source": [
        "# plots bivariados y pruebas de correlación\n",
        "\n",
        "# Scatterplot. Revise help(points) para las etiquetas de los símbolos definidos\n",
        "par(mfrow=c(1,2))\n",
        "plot(xy, pch=20, cex=0.5)\n",
        "plot(log10(xy), pch=20, cex=0.5, xlab='log(Xvar)', ylab='log(Yvar)')"
      ],
      "execution_count": null,
      "outputs": []
    },
    {
      "cell_type": "code",
      "metadata": {
        "id": "fYHAd0yDUnCS"
      },
      "source": [
        "length(x[x>2])\t\t# State length of a vector.  Use `dim' for an array or data.frame.\n",
        "# Prueba de correlación con hipotésis paramétrica\n",
        "cor.test(x[x>2],y[x>2], method='pearson')\n",
        "# Prueba para correlación bivariada con hipotésis No-paramétrica\n",
        "cor.test(x[x>2],y[x>2], method='kendall')"
      ],
      "execution_count": null,
      "outputs": []
    },
    {
      "cell_type": "markdown",
      "metadata": {
        "collapsed": false,
        "id": "3O-QjliYUnCT"
      },
      "source": [
        "##10. Recursos importantes para sus estudios en R\n",
        "\n",
        "###Aquí ofrecemos una colección variada de comandos y recursos útiles para aprender más sobre R como lenguaje de programación.\n",
        "\n",
        "### * Hay >700 libros con 'R' en el título, la mayoría presenta tutoriales de metodología y código. Se publica un nuevo libro sobre R cada ~10 días.\n",
        "\n",
        "###* Dos introducciones de alta calidad a R:\n",
        "   * Del equipo central de R: https://cran.r-project.org/doc/manuals/R-intro.html\n",
        "   * De la Universidad Carnegie-Mellon: http://www.stat.cmu.edu/~cshalizi/statcomp/14/\n",
        "\n",
        "###* Existen numerosos recursos informales de aprendizaje en línea sobre programación en R:\n",
        "\n",
        "   * [R-bloggers](https://www.r-bloggers.com) agrega entradas de ~1100 blogs.\n",
        "   * [Stack Overflow](https://stackoverflow.com/) tiene ~400.000 preguntas y respuestas sobre la programación en R.\n",
        "   * Los paquetes CRAN se describen a menudo en dos revistas de acceso abierto: [Journal of Statistical Software](https://www.jstatsoft.org/index) y [The R Journal](https://journal.r-project.org ). Estos artículos suelen aparecer como _viñetas_ dentro del entorno R.\n",
        "\n"
      ]
    },
    {
      "cell_type": "code",
      "metadata": {
        "id": "SIAhSLscUnCU"
      },
      "source": [
        "# Liste los ~30 paquetes CRAN más importantes en el ámbiente base-R\n",
        "library()\n",
        "\n",
        "# Liste las funciones completas ~400 disponibles en n R's `base'\n",
        "library(help = \"base\")\n",
        "\n",
        "# Estadísticas en base R (~400 funciones, diez mil más en CRAN y otros repositorios de R)\n",
        "library(help='stats')\n",
        "\n",
        "# Liste los contenidos del directorio actual\n",
        "ls()\n",
        "\n",
        "# Programación de 'utilities' incluyen:\n",
        "#    Use `source' para llamar script R externos\n",
        "#    Use `edit' para editar un objerto en R\n",
        "#    Use 'environment' para aislar una colección de objetos\n",
        "#    Funciones como `debug', `trace' y `browser' asiste con la prueba del código\n",
        "#    Función 'process.events' permite un bajo manejo de comandos R\n",
        "library(help = 'utils')\n",
        "\n",
        "# Loops:  for( i in 1:100) { ... }\n",
        "# Programación de control de flujos:  if/else, ifelse, switch, while, repeat, next, break, stop\n",
        "foo <- 2\n",
        "if(foo == 1) cat('Hello world!') else cat('Do nothing')\n",
        "for(i in 1:10) { cat(' Num = ', i, '\\n') }\n",
        "\n",
        "# Gráficas y disposítivos en base R\n",
        "library(help='graphics')\n",
        "library(help='grDevices')\n",
        "\n",
        "# Paralelización del control computacional en base R\n",
        "# CRAN tiene otra docenas de paquetes para el procesamiento de alto desempeño\n",
        "library(help='parallel')\n",
        "\n",
        "# Corra un script R que tiene en su disco local\n",
        "help(source)\n",
        "\n",
        "# Guarde objetos R (o todo su ambiente) en el disco local\n",
        "help(save) ; help(load)\n",
        "\n",
        "# Guarde o cargue la historia de comandos R usados\n",
        "help(savehistory)  ;  help(loadhistory)\n",
        "\n",
        "# Conecciones, pipes, sockets, URLs, clipboard, compresión, etc.\n",
        "help(connections)\n",
        "\n",
        "# Interactue con el computador anfitrión\n",
        "Sys.info()\n",
        "system('ls -l')\n",
        "system.time(fft(seq(0,1,length.out=1000000)))\n",
        "\n",
        "# Construct composite strings using 'paste'\n",
        "# Extract postions of a string using `substring'\n",
        "band_ir <- 'J'\n",
        "paste('NGC1068',band_ir,'FITS', sep='.')\n",
        "\n",
        "# La funciones R/CRAN son públicas y pueden ser adiconadas desde python\n",
        "# programas usan paquetes rpy2.\n",
        "#Por ejemplo:\n",
        "### pip install rpy2\n",
        "### import rpy2\n",
        "### import rpy2.robjects as robjects\n",
        "### R = robjects.r\n",
        "### ranGauss = R.rnorm(100)\n",
        "### print ranGauss\n",
        "\n",
        "# PEl código python pueden ser adicionado en R usando el paquete CRAN 'reticulate' (entre otros)\n",
        "# R tiene interfaces similares a otros muchos lenguajes."
      ],
      "execution_count": null,
      "outputs": []
    },
    {
      "cell_type": "markdown",
      "source": [
        "##Basado y modificado del tutorial:\n",
        "\n",
        "### Summer School in Statistics for Astronomers XVII, June 2022  \n",
        "### Instructor: Eric Feigelson (Center for Astrostatistics, Penn State University)"
      ],
      "metadata": {
        "id": "ZwUnO_8cCOf0"
      }
    },
    {
      "cell_type": "markdown",
      "source": [
        "#Ejercicio Módulo 3 Práctica R\n",
        "\n",
        "##Descarge del repositorio de GitHub los archivos metadatosSARS.xlsx y nextclade_output.csv o suba los archivos al notebook"
      ],
      "metadata": {
        "id": "lfXFXzV3VWt3"
      }
    },
    {
      "cell_type": "markdown",
      "source": [
        "##Leer y cargar el archivo '.xlsx'"
      ],
      "metadata": {
        "id": "Gc8ZYJ6QWl5T"
      }
    },
    {
      "cell_type": "code",
      "source": [
        "library(\"readxl\")\n",
        "\n",
        "metadatos <- read_excel('metadatosSARS.xlsx',  col_names = TRUE)"
      ],
      "metadata": {
        "id": "lxRVQCLGVl94"
      },
      "execution_count": 7,
      "outputs": []
    },
    {
      "cell_type": "markdown",
      "source": [
        "##Leer y cargar el archivo '.csv'"
      ],
      "metadata": {
        "id": "kiOLUtIiVppB"
      }
    },
    {
      "cell_type": "code",
      "source": [
        "library(\"data.table\")\n",
        "\n",
        "nextclade<- fread(\"nextclade_output.csv\", header=TRUE,\n",
        "                select = c(\"seqName\", \"clade\", \"Nextclade_pango\", \"qc.overallScore\", \"coverage\", \"deletions\", \"insertions\", \"frameShifts\", \"aaSubstitutions\", \"privateNucMutations.unlabeledSubstitutions\", \"pcrPrimerChanges\", \"failedGenes\"))\n"
      ],
      "metadata": {
        "id": "P8dfEsdyVrz3"
      },
      "execution_count": 8,
      "outputs": []
    },
    {
      "cell_type": "markdown",
      "source": [
        "##Usando la opción 'select' fueron seleccionadas las columnas de interés:\n",
        "\n",
        "clade\n",
        "\n",
        "Nextclade_pango\n",
        "\n",
        "qc.overallScore\n",
        "\n",
        "coverage\n",
        "\n",
        "deletions\n",
        "\n",
        "insertions\n",
        "\n",
        "frameShifts\n",
        "\n",
        "aaSubstitutions\n",
        "\n",
        "privateNucMutations.unlabeledSubstitutions\n",
        "\n",
        "pcrPrimerChanges\n",
        "\n",
        "failedGenes\n",
        "\n",
        "##*NOTA: Recuerde siempre copiar los nombres directamente para evitar errores de escritura\n"
      ],
      "metadata": {
        "id": "EmVZymKKVvzd"
      }
    },
    {
      "cell_type": "markdown",
      "source": [
        "##Una vez se han cargado y ajustado los datos, se realiza el merge de las dos tablas, donde todas las filas de la Metadata (X) son verdaderas (T)"
      ],
      "metadata": {
        "id": "Hj8P2d7dV7a8"
      }
    },
    {
      "cell_type": "code",
      "source": [
        "merge_data<-merge(x=metadatos, y=nextclade,\n",
        "by.x=\"fasta_encabezado\", by.y=\"seqName\", all.x=T)"
      ],
      "metadata": {
        "id": "UPd1mHgQWEAV"
      },
      "execution_count": 9,
      "outputs": []
    },
    {
      "cell_type": "markdown",
      "source": [
        "##Guardar el archivo de salida a un .csv, para visualizar el archivo de salida. Descargelo a su disco local y subalo a la plataforma LMS Prueba-Modulo3_R (https://lms.wellcomeconnectingscience.org)"
      ],
      "metadata": {
        "id": "gWPFNJclXeot"
      }
    },
    {
      "cell_type": "code",
      "source": [
        "write.csv(merge_data, file='merge_meta_nextclade.csv')"
      ],
      "metadata": {
        "id": "6NBt850RXeQe"
      },
      "execution_count": 10,
      "outputs": []
    },
    {
      "cell_type": "markdown",
      "source": [
        "##Recuerde que puede realizar la unión de múltiples archivos de diferentes formatos\n",
        "\n",
        "ej. Si tiene un archivo '.tsv'\n",
        "\n",
        "***archivo_tsv <- read.table(\"data.tsv\", header = TRUE)***\n",
        "\n",
        "\n",
        "Cargar R con rpy2.ipython\n",
        "\n",
        "'%reload_ext rpy2.ipython'\n",
        "\n",
        "'%config IPCompleter.greedy=True'\n",
        "\n",
        "'%config InlineBackend.figure_format = 'retina''\n",
        "\n",
        "'%%R'"
      ],
      "metadata": {
        "id": "mLEYGSJbWFHM"
      }
    }
  ]
}