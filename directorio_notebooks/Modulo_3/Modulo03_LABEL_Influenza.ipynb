{
  "nbformat": 4,
  "nbformat_minor": 0,
  "metadata": {
    "colab": {
      "provenance": []
    },
    "kernelspec": {
      "name": "python3",
      "display_name": "Python 3"
    },
    "language_info": {
      "name": "python"
    }
  },
  "cells": [
    {
      "cell_type": "markdown",
      "source": [
        "# Modulo 03 Tipificación - LABEL (Influenza)\n",
        "\n",
        "###Nota: Los comandos de bash empiezan con  \"!\"\n",
        "###Nota: El las casillad de código los comentarios empiezan con \"#\"\n",
        "\n",
        "En este Notebook se realizarán los pasos para realizar la tipificación de Influenza utilizando las herramientas de LABEL de CDC-EEUU.\n",
        "\n",
        "En esta página puede encontrar más información del programa: [https://wonder.cdc.gov/amd/flu/label/LABEL_README.html](https://wonder.cdc.gov/amd/flu/label/LABEL_README.html)\n",
        "\n",
        "##Resultados esperados\n",
        "*   Instalar LABEL\n",
        "*   Descargar el set de datos para Influenza\n",
        "*   Ejecutar la caracterización en LABEL\n",
        "*   Obtener el informe\n",
        "\n",
        "\n",
        "\n",
        "\n"
      ],
      "metadata": {
        "id": "aKaXSPdjnQ3U"
      }
    },
    {
      "cell_type": "markdown",
      "source": [
        "## [1] Descarga de datos"
      ],
      "metadata": {
        "id": "CWpMU-U4qddf"
      }
    },
    {
      "cell_type": "code",
      "execution_count": null,
      "metadata": {
        "id": "w8q5hFXqXxHH"
      },
      "outputs": [],
      "source": [
        "#Datos de sequenciación en formato fasta\n",
        "!wget https://github.com/diseasesdetectives/Curso_Bioinformatica_para_profesionales_de_la_salud_publica/raw/master/data_curso/Modulo_3/secuencias-flu.fasta\n",
        "\n",
        "print(\"Contenido directorio actual: \")\n",
        "!ls"
      ]
    },
    {
      "cell_type": "markdown",
      "source": [
        "#### Veamos el contenido del archivo de las secuencias"
      ],
      "metadata": {
        "id": "-lfz7wr4aDEQ"
      }
    },
    {
      "cell_type": "code",
      "source": [
        "#El comando head muestra en pantalla las primeras filas de un archivo.\n",
        "#La opción -n se puede usar para especificar cuántas filas queremos ver en pantalla.\n",
        "!head -n 11 secuencias-flu.fasta"
      ],
      "metadata": {
        "id": "clTw1q1taLVk"
      },
      "execution_count": null,
      "outputs": []
    },
    {
      "cell_type": "markdown",
      "source": [
        "#### Con el comando grep podemos buscar y ver solo las filas de los encabezados de las secuencias. Los encabezados empiezan con \">\", así que usaremos este caracter para la búsqueda."
      ],
      "metadata": {
        "id": "poUWBGZhaY94"
      }
    },
    {
      "cell_type": "code",
      "source": [
        "#Ver en pantalla los encabezados de las secuencias en el archivo .fasta\n",
        "!grep \">\" secuencias-flu.fasta"
      ],
      "metadata": {
        "id": "UQyDeRJHalus"
      },
      "execution_count": null,
      "outputs": []
    },
    {
      "cell_type": "markdown",
      "source": [
        "####❓¿Cuántas secuencias hay? ¿A cuántas muestras corresponden?"
      ],
      "metadata": {
        "id": "Ins4NPsYayh3"
      }
    },
    {
      "cell_type": "markdown",
      "source": [],
      "metadata": {
        "id": "2cBXHxDmJ7Z_"
      }
    },
    {
      "cell_type": "markdown",
      "source": [
        "## [2] Instalación de Label"
      ],
      "metadata": {
        "id": "p_fuvWIpqusW"
      }
    },
    {
      "cell_type": "markdown",
      "source": [
        "###Descargar instalador de LABEL (está disponible en esta página web: https://wonder.cdc.gov/amd/flu/label/)\n",
        "\n",
        "#### El programa wget descarga archivos ubicados en un servidor web"
      ],
      "metadata": {
        "id": "n9uXeE_5rj90"
      }
    },
    {
      "cell_type": "code",
      "execution_count": null,
      "metadata": {
        "id": "R-RYenbcu_2w"
      },
      "outputs": [],
      "source": [
        "#Descargar archivo instalador\n",
        "!wget https://wonder.cdc.gov/amd/flu/label/flu-amd-LABEL-202209.zip"
      ]
    },
    {
      "cell_type": "markdown",
      "source": [
        "#### Ahora descomprimimos el archivo para poder usar el ejecutable\n",
        "\n"
      ],
      "metadata": {
        "id": "x6tCR5YriU6h"
      }
    },
    {
      "cell_type": "code",
      "source": [
        "  #descomprimir el archivo descargado. -q es la opción para que no aparezca tanto diálogo en pantalla\n",
        "!unzip -q flu-amd-LABEL-202209.zip\n",
        "  #ver el contenido del directorio actual\n",
        "print(\"Se ha descomprimido el archivo flu-amd-LABEL-202209.zip\")\n",
        "print(\"\")\n",
        "print(\"Contenido del directorio actual:\")\n",
        "!ls"
      ],
      "metadata": {
        "id": "SwQ9VAAAiZhH"
      },
      "execution_count": null,
      "outputs": []
    },
    {
      "cell_type": "markdown",
      "source": [
        "###Vamos a revisar el contenido de la carpeta descomprimida y verificar que el archivo tiene permisos para ser ejecutado por el usuario"
      ],
      "metadata": {
        "id": "N0fZCxbmllA5"
      }
    },
    {
      "cell_type": "code",
      "source": [
        "# El comando ls nos devuelve una lista de los archivos en el direcorio actual\n",
        "# Si usamos este comando con las opciones -lh, nos devuelve la lista con los detalles de su usuario dueño, y los permisos que tiene cada archivo\n",
        "# los permisos se denotan como r,w,x -> corresponden a read, write, execute\n",
        "# los archivos con x en los permisos son ejecutable\n",
        "# Si quisieramos agregar permisos para ejecutar podemos usar el comando chmod +x que agrega permiso de ejecución\n",
        "print(\"Persmisos y detalle de los archivos en el directorio actual:\")\n",
        "!ls -lh flu-amd"
      ],
      "metadata": {
        "id": "JNKJdkVmimv4"
      },
      "execution_count": null,
      "outputs": []
    },
    {
      "cell_type": "markdown",
      "source": [
        "### Para ver como correr el programa LABEL podemos llamar a su ejecutable\n",
        "\n",
        "Vemos que se requiere un archivo fasta con las secuencias, el nombre del proyecto y escoger un módulo de proteinas"
      ],
      "metadata": {
        "id": "hgzNRs4elvyZ"
      }
    },
    {
      "cell_type": "code",
      "source": [
        "#ejecutando el programa LABEL para ver los parámetros necesarios y opciones disponible\n",
        "!./flu-amd/LABEL"
      ],
      "metadata": {
        "id": "_OJkhmrTi6hK"
      },
      "execution_count": null,
      "outputs": []
    },
    {
      "cell_type": "markdown",
      "source": [
        "###Para ver la lista de proteínas podermos usar el comando con la opción -S\n",
        "\n"
      ],
      "metadata": {
        "id": "i1KxajU-mn66"
      }
    },
    {
      "cell_type": "code",
      "source": [
        "#Ejecutar el programa LABEL con la opción -S para ver la lista de proteínas\n",
        "!./flu-amd/LABEL -S"
      ],
      "metadata": {
        "id": "vpbQBD_MmrNt"
      },
      "execution_count": null,
      "outputs": []
    },
    {
      "cell_type": "markdown",
      "source": [
        "## [3] Ejecutar el programa para un set de datos de Influenza H5"
      ],
      "metadata": {
        "id": "loaOigAL_D43"
      }
    },
    {
      "cell_type": "markdown",
      "source": [
        "### Realicemos el análisis para el archivo fasta que ya descargamos llamado 'secuencias-flu.fasta'"
      ],
      "metadata": {
        "id": "c7RK4caFAcwe"
      }
    },
    {
      "cell_type": "code",
      "source": [
        "# El comando requiere tres parámetros en este orden: secuencias, nombre_proyecto, modulo_proteina\n",
        "# Las opciones se pueden agregar dependiendo de las necesidades\n",
        "# La opción -C Hce un alineamiento y construcción de árbol filogenético por máxima verosimilitud\n",
        "\n",
        "!./flu-amd/LABEL -C secuencias-flu.fasta tipificacion H5v2015"
      ],
      "metadata": {
        "id": "TVd5JHDq_T0L"
      },
      "execution_count": null,
      "outputs": []
    },
    {
      "cell_type": "markdown",
      "source": [
        "## [4] Revisar resultados\n",
        "\n",
        "#### Primero podemos ver qué archivos se generaron usando el comando ls"
      ],
      "metadata": {
        "id": "YOexEfiyM_rF"
      }
    },
    {
      "cell_type": "code",
      "source": [
        "#ver contenido del directorio actual\n",
        "print(\"Contenido del directorio actual: \")\n",
        "!ls"
      ],
      "metadata": {
        "id": "tbzyNHhITxlU"
      },
      "execution_count": null,
      "outputs": []
    },
    {
      "cell_type": "markdown",
      "source": [
        "#### En el archivo de resultado _final.txt encontramos la clasificación de clados que realizo el programa LABEL"
      ],
      "metadata": {
        "id": "omB8LpxRXZNY"
      }
    },
    {
      "cell_type": "code",
      "source": [
        "!cat tipificacion_final.txt"
      ],
      "metadata": {
        "id": "3oyaJwj3Xbc_"
      },
      "execution_count": null,
      "outputs": []
    },
    {
      "cell_type": "markdown",
      "source": [
        "#### Descomprimimos el archivo de resultados .zip"
      ],
      "metadata": {
        "id": "5gK6Qjs0Xq4o"
      }
    },
    {
      "cell_type": "code",
      "source": [
        "#Descomprimir resultados\n",
        "!unzip -q tipificacion.zip\n",
        "print(\"Se ha descombrimido el archivo tipificacion.zip\")"
      ],
      "metadata": {
        "id": "ZTOmbjr3Xvk-"
      },
      "execution_count": 13,
      "outputs": []
    },
    {
      "cell_type": "code",
      "source": [
        "#Ahora veamos el contenido del directorio\n",
        "print(\"Contenido del directorio tipificacion:\")\n",
        "!ls tipificacion"
      ],
      "metadata": {
        "id": "XFTe9beSYWKE"
      },
      "execution_count": null,
      "outputs": []
    },
    {
      "cell_type": "markdown",
      "source": [
        "#### Dentro de la carpeta de resultados hay un archivo en formato Newick con la ubicación de las muestras en una filogenia\n",
        "####Descargue este archivo y explore la filogenia en el visualizador de su preferencia, por ejemplo [icytree.org](https://icytree.org)\n",
        "####Está ubicado en la carpeta de resultados: tipificación/FASTA/"
      ],
      "metadata": {
        "id": "a5nnjGEiZldY"
      }
    },
    {
      "cell_type": "code",
      "source": [
        "#Contenido del archivo en formato newick\n",
        "!cat tipificacion/FASTA/*.nwk"
      ],
      "metadata": {
        "id": "fhONG94vYXYN"
      },
      "execution_count": null,
      "outputs": []
    }
  ]
}