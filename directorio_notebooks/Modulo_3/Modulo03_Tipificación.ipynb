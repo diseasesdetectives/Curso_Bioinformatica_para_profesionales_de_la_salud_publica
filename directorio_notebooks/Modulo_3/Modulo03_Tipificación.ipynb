{
  "nbformat": 4,
  "nbformat_minor": 0,
  "metadata": {
    "colab": {
      "provenance": []
    },
    "kernelspec": {
      "name": "python3",
      "display_name": "Python 3"
    },
    "language_info": {
      "name": "python"
    }
  },
  "cells": [
    {
      "cell_type": "markdown",
      "source": [
        "# Modulo 03 Tipificación - Nextclade\n",
        "###Nota 1: Los comandos de bash empiezan con  \"!\"\n",
        "###Nota 2: El las casillad de código los comentarios empiezan con \"#\"\n",
        "###Nota 3: Durante la instalación de conda y los ambientes conda es posible que se reinicie la conexión al servidor. Esto es normal y puede continuar trabajando.\n",
        "\n",
        "En este Notebook se realizarán los pasos para realizar la tipificación de SARS-CoV-2 utilizando las herramientas de Nextclade.\n",
        "\n",
        "## ✔ Resultados esperados\n",
        "*   Instalar Nextclade\n",
        "*   Descargar el set de datos para SARS-CoV-2\n",
        "*   Ejecutar la caracterización en Nextclade\n",
        "*   Explorar el informe utilizando Pandas\n",
        "*   Obtener el archivo para visualizar los resultados en Auspice\n",
        "*   Analizar los resultados\n",
        "\n",
        "\n",
        "\n",
        "\n",
        "\n"
      ],
      "metadata": {
        "id": "aKaXSPdjnQ3U"
      }
    },
    {
      "cell_type": "markdown",
      "source": [
        "## [0] Instalación de Conda/Mamba\n",
        "#### Conda/Mamba es una herramienta que permite manejar paquetes y ambientes.\n",
        "#### Los ambientes son espacios aislados donde podrá instalar y ejecutar herramientas específicas para un projecto\n",
        "#### Los programas que vamos a usar se encuentran disponibles como ambientes de Conda"
      ],
      "metadata": {
        "id": "z8-BPPSnqpsN"
      }
    },
    {
      "cell_type": "code",
      "source": [
        "#verificar la versión de Python\n",
        "#para la mayoría de programas, usar la opción --version nos devolverá la versión del programa\n",
        "!python --version"
      ],
      "metadata": {
        "id": "te8UxTquOKNS"
      },
      "execution_count": null,
      "outputs": []
    },
    {
      "cell_type": "code",
      "execution_count": null,
      "metadata": {
        "id": "U1FikuBVXozA"
      },
      "outputs": [],
      "source": [
        "#Usando instalador de bibliotecas de Python (pip) para instalar conda/mamba.\n",
        "\n",
        "  #whoami es un comando de bash que nos dice qué usuario está activo\n",
        "!whoami\n",
        "  #pip es el instalador de bibliotecas de python\n",
        "!pip install -q condacolab\n",
        "\n",
        "#Código en Python\n",
        "  #importando la libreria de herramientas de condacolab\n",
        "import condacolab\n",
        "  #instalar conda\n",
        "condacolab.install()\n",
        "\n",
        "#Verificación versión conda\n",
        "!conda --version"
      ]
    },
    {
      "cell_type": "markdown",
      "source": [
        "## [1] Descarga de datos\n",
        "### Descargue los archivos de secuencia en formato fasta desde el repositorio usando el comando wget"
      ],
      "metadata": {
        "id": "CWpMU-U4qddf"
      }
    },
    {
      "cell_type": "code",
      "execution_count": null,
      "metadata": {
        "id": "w8q5hFXqXxHH"
      },
      "outputs": [],
      "source": [
        "#Los datos de sequenciación en formato fasta se encuentran depositados en el repositorio:\n",
        "  #wget ws un programa que recupera archivos desde servidores web\n",
        "!wget https://github.com/diseasesdetectives/Curso_Bioinformatica_para_profesionales_de_la_salud_publica/raw/master/data_curso/Modulo_3/secuenciasSARS.fas\n",
        "\n",
        "  #ls es el comando que nos devuelve la lista de archivos del directorio actual\n",
        "!ls"
      ]
    },
    {
      "cell_type": "markdown",
      "source": [
        "## [2] Instalación de Nextclade y configuración\n",
        "#### Vamos a usar Nextclade para caracterizar las secuencias de SARS-CoV-2\n",
        "####Nextclade está disponible como ambiente de conda"
      ],
      "metadata": {
        "id": "p_fuvWIpqusW"
      }
    },
    {
      "cell_type": "markdown",
      "source": [
        "Instalando paquete de conda para caracterizar genomas usando Nextclade"
      ],
      "metadata": {
        "id": "n9uXeE_5rj90"
      }
    },
    {
      "cell_type": "code",
      "execution_count": null,
      "metadata": {
        "id": "R-RYenbcu_2w"
      },
      "outputs": [],
      "source": [
        "#Crear ambiente de conda con las herramientas de\n",
        "  #intalación de Nextclade como ambiente de conda\n",
        "\n",
        "  #comando de conda para ver los ambientes disponibles\n",
        "!conda env list\n",
        "  #instalación del programa Nextclade dentro del ambiente \"base\"\n",
        "  # la opción -c se usa para indicar el repositorio de paquetes y programas. Nextclade está en el repositorio bioconda\n",
        "!conda install -c bioconda nextclade --quiet\n",
        "\n",
        "#Reiniciando el shell con las herramientas instaladas\n",
        "print(\"Reiniciando el kernel...\")\n",
        "get_ipython().kernel.do_shutdown(True)\n"
      ]
    },
    {
      "cell_type": "markdown",
      "source": [
        "#### Para verificar la descarga podemos usar el comando con la opción --version y ver que esté funcionando y la versión que instalamos"
      ],
      "metadata": {
        "id": "7vSJ0M-3OHr1"
      }
    },
    {
      "cell_type": "code",
      "source": [
        "#Ver versión del programa Nextclade\n",
        "print(\"La versión de Nextade es: \")\n",
        "!nextclade --version"
      ],
      "metadata": {
        "id": "funGF7rwOQnA"
      },
      "execution_count": null,
      "outputs": []
    },
    {
      "cell_type": "markdown",
      "source": [
        "#### Antes de continuar veamos la forma en que se escriben los comandos del programa Nextclade llamando la opción de ayuda -h\n",
        "#### De esta manera podemos conocer qué opciones de ejecución tiene, qué archivos se necesitan, cuáles son los parámetros necesarios, y qué opciones hay disponibles"
      ],
      "metadata": {
        "id": "VK0N3geyM-13"
      }
    },
    {
      "cell_type": "code",
      "source": [
        "#llama la ayuda de nextclade para ver las opciones de ejecución\n",
        "!nextclade -h"
      ],
      "metadata": {
        "id": "xixf2o31NdOp"
      },
      "execution_count": null,
      "outputs": []
    },
    {
      "cell_type": "markdown",
      "source": [
        "#### La ayuda nos ha mostrado hay varios comando disponibles dentro del programa, entre esos los comandos para correr el análisis (nextclade run), y los comandos para ver y descargar sets de datos (nextclade dataset)\n",
        "#### Para cada uno de estos comandos también podemos invocar la opción -h para ver la ayuda y conocer su sintaxis y opciones"
      ],
      "metadata": {
        "id": "858guICtOxQ3"
      }
    },
    {
      "cell_type": "markdown",
      "source": [
        "## [3] Descarga de sets de datos para configurar y realizar análisis\n",
        "\n",
        "###Nextclade tiene sets de datos para analizar distintos virus, entre ellos SARS-CoV-2, RSV, y algunos tipos de Influenza. Vamos a usarlo para tipificar SARS-CoV-2.\n",
        "\n",
        "### Primero revisemos la lista de virus que podemos analizar con Nextclade\n",
        "### Para eso usamos el comando: nextclade dataset list"
      ],
      "metadata": {
        "id": "EKB2tiwCsiDN"
      }
    },
    {
      "cell_type": "code",
      "source": [
        "#Ver la ayuda del comando nextclade datasets para conocer sus opciones de ejecución\n",
        "!nextclade dataset -h"
      ],
      "metadata": {
        "id": "HuHDYBoEPYPy"
      },
      "execution_count": null,
      "outputs": []
    },
    {
      "cell_type": "markdown",
      "source": [
        "#### Viendo la ayuda del comando 'nextclade dataset' vemos que tiene dentro los comandos 'list' para ver la lista de sets de datos, y el comando 'get' para descargarlos.\n",
        "#### para estos comandos también podemos invocar ayuda usando la opción -h"
      ],
      "metadata": {
        "id": "kb547Nl2PkBS"
      }
    },
    {
      "cell_type": "code",
      "source": [
        "#ver la ayuda del comando 'nextclade dataset list'\n",
        "!nextclade dataset list -h"
      ],
      "metadata": {
        "id": "-vfeLw9YP2ic"
      },
      "execution_count": null,
      "outputs": []
    },
    {
      "cell_type": "markdown",
      "source": [
        "#### El comando 'nextclade dataset list' se puede usar solo, pero también tiene opciones para limitar la búsqueda. Por ahora queremos una lista de todos los sets de datos disponibles"
      ],
      "metadata": {
        "id": "pcYgAvlZQEfs"
      }
    },
    {
      "cell_type": "code",
      "execution_count": null,
      "metadata": {
        "id": "iVYxjBmY7fn4"
      },
      "outputs": [],
      "source": [
        "#Listar los datasets disponibles en nextclade\n",
        "#dataset list genera la lista de datasets disponibles\n",
        "  #usar los comandos de nextclade para ver la lista de sets de datos disponibles para realizar análisis\n",
        "  #con la señal \">\" vamos a guardar esta lista en un documento de extensión .csv que podemos revisar después\n",
        "!nextclade dataset list > nextclade_dataset_list.csv\n",
        "\n",
        "print(\"Se ha guardado la lista de datasets en: nextclade_dataset_list.csv\")\n",
        "#Ver contenido del directorio actual\n",
        "print(\"\")\n",
        "print(\"Contenido directorio actual: \")\n",
        "!ls"
      ]
    },
    {
      "cell_type": "markdown",
      "source": [
        "#### Con la herramienta cat podemos ver el contenido del archivo que creamos\n",
        "\n",
        "#### Explore esta lista para ver los sets de datos disponibles y los organismos que puede analizar con nextclade\n",
        "\n",
        "#### Podemos encontrar los nombres de los sets de datos en la columna 'name', su versión corta marcada como \"shortcuts\", o en la columna \"attributes\". Esta información se necesita para descargarlos"
      ],
      "metadata": {
        "id": "hjjhg7Pm3OqO"
      }
    },
    {
      "cell_type": "code",
      "source": [
        " # el comando cat nos muestra el contenido del archivo donde guardamos la lista de sets de datos\n",
        "!cat nextclade_dataset_list.csv"
      ],
      "metadata": {
        "id": "GclIKCik3PAR"
      },
      "execution_count": null,
      "outputs": []
    },
    {
      "cell_type": "markdown",
      "source": [
        "### El dataset que queremos es el primero de la lista, el nombre en la columna de atributos es \"sars-cov-2\"\n",
        "#### ❓Hay más sets de datos para este virus. ¿Escriba debajo para qué cree que nos pueden servir estos sets de datos alternos?"
      ],
      "metadata": {
        "id": "2vbEi4qwSQTn"
      }
    },
    {
      "cell_type": "markdown",
      "source": [
        "\n",
        "###Descarguemos el set de datos 'sars-cov-2' usando el comando 'nextclade dataset get'. Primero podemos ver la forma de ejecutar el comando con la opción de ayuda -h"
      ],
      "metadata": {
        "id": "y04r8_CXi4nb"
      }
    },
    {
      "cell_type": "code",
      "source": [
        "#ver ayuda del comando 'nextclade dataset get'\n",
        "!nextclade dataset get -h"
      ],
      "metadata": {
        "id": "PwdFxakdQmW_"
      },
      "execution_count": null,
      "outputs": []
    },
    {
      "cell_type": "markdown",
      "source": [
        "#### El comando 'nextclade dataset get' requiere el nombre del set de datos (--name) y el nombre de la salida, ya sea en un directorio (--output-dir) o una carpeta comprimida (--output-zip)\n",
        "#### Procedamos a descargar el set de datos para SARS-CoV-2"
      ],
      "metadata": {
        "id": "DKMlroYQQwc4"
      }
    },
    {
      "cell_type": "code",
      "execution_count": null,
      "metadata": {
        "id": "a6ChZU09vYZv"
      },
      "outputs": [],
      "source": [
        "  #dataset get descarga los archivos del dataset de nombre --name en el directorio --out\n",
        "!nextclade dataset get --name sars-cov-2 --output-dir sars-cov-2\n",
        "print(\"Se ha descargado el set de datos\")\n",
        "  #ls . nos muestra la lista de archivos y directorios dentro de nuestra ubicación actual (.)\n",
        "  #debe poder ver el directorio que descargamos con el set de datos\n",
        "print(\"\")\n",
        "print(\"Contenido directorio actual: \")\n",
        "!ls .\n"
      ]
    },
    {
      "cell_type": "markdown",
      "source": [
        "El dataset de nextclade contiene información del genoma de referencia y los genes codificantes del virus con el fin de realizar una anotación completa, tipificación y caracterización de mutaciones de nt y aa\n",
        "\n",
        "Use los comandos aprendidos para ver el contenido de estas carpetas"
      ],
      "metadata": {
        "id": "dYde-iryomkE"
      }
    },
    {
      "cell_type": "code",
      "source": [
        "#complete este comando para ver la lista de archivos dentro del directorio sars-cov-2\n",
        "print(\"contenido directorio 'sars-cov-2'\")\n",
        "!ls"
      ],
      "metadata": {
        "id": "IM5CMCAJ5ep1"
      },
      "execution_count": null,
      "outputs": []
    },
    {
      "cell_type": "markdown",
      "source": [
        "## [4] Ejecutemos Nextclade\n",
        "#### Como habiamos visto, el comando para realizar análisis con el programa Nextclade se llama 'nextclade run'\n",
        "#### Primero podemos revisar la sintaxis y opciones de ejecución con la opción de ayuda -h"
      ],
      "metadata": {
        "id": "EStdhEm4EHRt"
      }
    },
    {
      "cell_type": "code",
      "source": [
        "#ver la ayuda del comando 'nextclade run'\n",
        "!nextclade run -h"
      ],
      "metadata": {
        "id": "LnrbOztqSFZQ"
      },
      "execution_count": null,
      "outputs": []
    },
    {
      "cell_type": "markdown",
      "source": [
        "#### 'nextclade run' requiere que especifiquemos opciones del set de datos de análisis (--input-dataset), y que proveemos un archivo con las secuencias en formato fasta (siempre como último parámetro). También podemos especificar qué archivos de salida queremos (--output-all) y en con qué nombre guardarlos (--output-basename)"
      ],
      "metadata": {
        "id": "sZBwU-_eSYaD"
      }
    },
    {
      "cell_type": "code",
      "execution_count": null,
      "metadata": {
        "id": "LPOOQ0ZOwQlx"
      },
      "outputs": [],
      "source": [
        "#Ejecutar Nextclade con el set de datos de SARS-CoV-2 para tipificar y caracterizar nuestras secuencias\n",
        "#El símbolo \\ indica al servidor que el comando continua en la siguiente línea\n",
        "#Nuestro archivo se llama secuenciasSARS.fasta\n",
        "#el directorio de salida se llamará nextclade_out\n",
        "!nextclade run\\\n",
        "--output-all=nextclade_out \\\n",
        "--input-dataset=./sars-cov-2 \\\n",
        "--output-basename=nextclade_sars \\\n",
        "secuenciasSARS.fas\n",
        "\n",
        "print(\"Se ha ejecutado Nextclade para SARS-CoV-2\")\n",
        "print(\"Estos son los archivos de salida dentro del directorio nextclade_out: \")\n",
        "print(\"\")\n",
        "#listar el contenido del directorio de\n",
        "!ls nextclade_out"
      ]
    },
    {
      "cell_type": "markdown",
      "source": [
        "#### Obtenemos:\n",
        "\n",
        "*   Un alineamiento de las secuencias frente a la referencia (.aligned.fasta)\n",
        "*   Traducciones de los genes en formato fasta\n",
        "*   Tablas con información de las características genómicas de las secuencias (.csv; .tsv; & .json)\n",
        "*   Un árbol en formato newick con la ubicación de las muestras (.nwk)\n",
        "*   Un archivo auspice.json con la visualización de la filogenia anotada con las características y mutaciones (.auspice.json)\n",
        "\n"
      ],
      "metadata": {
        "id": "hfWryu9TE5FK"
      }
    },
    {
      "cell_type": "markdown",
      "source": [
        "## [5] Explorar los resultados usando Pandas\n",
        "#### Excelente trabajo. Hasta este punto logramos obtener los archivos con la caracterización de nuestras secuencias del virus. Podemos descargar los archivos y explorarlos visualmente. Los siguientes pasos noss llevan más allá, y manipularemos los archivos desde la lína de comandos.\n"
      ],
      "metadata": {
        "id": "6ncLsaACFdz5"
      }
    },
    {
      "cell_type": "markdown",
      "source": [
        "#### Para explorar las tablas obtenidas vamos a usar el programa Pandas. Pandas es una librería de Python especializada en el manejo de estructuras de datos.\n",
        "####Con pandas podemos convertir los archivos en dataframes, y explorar las tablas programáticamente\n",
        "\n",
        "####Pandas es una librería de python ya instalada pero primero la debemos cargar"
      ],
      "metadata": {
        "id": "q6iZBm72Zqbh"
      }
    },
    {
      "cell_type": "code",
      "source": [
        "#carga la librería de pandas con el nombre pd (solamente para tener que escribir menos letras)\n",
        "import pandas as pd\n",
        "\n",
        "#Cargar la tabla en formato csv como un dataframe de pandas llamdo df\n",
        "df = pd.read_csv('/content/nextclade_out/nextclade_sars.csv', sep=\";\")\n",
        "\n",
        "#Ver el dataframe en pantalla\n",
        "df"
      ],
      "metadata": {
        "id": "GgkIT2UCBAyM"
      },
      "execution_count": null,
      "outputs": []
    },
    {
      "cell_type": "markdown",
      "source": [
        "####Ver encabezados de las columnas\n",
        "#### La tabla de resultados tiene más de 70 columnas!\n",
        "\n",
        "Podemos hacer una lista de los encabezados de las columnas para ver qué tipo de información contiene usando el comando list()"
      ],
      "metadata": {
        "id": "byRUzAz11mVT"
      }
    },
    {
      "cell_type": "code",
      "source": [
        "# lista los encabezados de las columnas\n",
        "list(df.columns)"
      ],
      "metadata": {
        "id": "Y7u9pwR61lLi"
      },
      "execution_count": null,
      "outputs": []
    },
    {
      "cell_type": "markdown",
      "source": [
        "#### Podemos hacer una tabla con solo las columnas que queremos ver, por ejemplo solo el nombre de la muestra (Columna 'seqName') y el porcentaje de cobertura\n",
        "#### El notebook de colab nos da sugerencias de figuras que podemos gráficar con esta información 📊. Haga clic en la opción de distribución para agregar una celda de código para generar esta gráfica."
      ],
      "metadata": {
        "id": "f4X4UZVYfm_G"
      }
    },
    {
      "cell_type": "code",
      "source": [
        "# hacer un dataframe solo con las columnas seqName y coverage\n",
        "cobertura_df=df[['seqName','coverage']]\n",
        "\n",
        "#ver el dataframe creado en pantalla\n",
        "cobertura_df"
      ],
      "metadata": {
        "id": "-ZABX9gyZ-s3"
      },
      "execution_count": null,
      "outputs": []
    },
    {
      "cell_type": "markdown",
      "source": [
        "#### También podemos exportar las tablas que creamos en dataframes como tablas en archivos de formato csv."
      ],
      "metadata": {
        "id": "UzGMWxcbhlIv"
      }
    },
    {
      "cell_type": "code",
      "source": [
        "#con las herramientas .to_csv() podemos guardar el dataframe e indicar el separador de columnas y el decimal.\n",
        "cobertura_df.to_csv('coberturas.csv', sep=';', decimal=',', index=False)\n",
        "print(\"Se ha guardado el dataframe con el nombre cobertura.csv\")\n",
        "\n",
        "#ver contenido del directorio actual\n",
        "print(\"\")\n",
        "print(\"Contenido del directorio actual: \")\n",
        "!ls"
      ],
      "metadata": {
        "id": "n6sn7dLbiRgr"
      },
      "execution_count": null,
      "outputs": []
    },
    {
      "cell_type": "markdown",
      "source": [
        "## [6] Ejercicio 1 - Pandas📚\n",
        "\n",
        "#### Usando los ejemplos anteriores, construya un dataframe con las columnas que tienen: nombre de la muestra (seqName), linaje y clado, deleciones, inserciones, y mutaciones en aminoácidos\n",
        "\n",
        "####Para esto debe completar el código debajo"
      ],
      "metadata": {
        "id": "8ODjh7dNjgT7"
      }
    },
    {
      "cell_type": "code",
      "source": [
        "# hacer un dataframe solo con las columnas linaje y clado, deleciones, inserciones, y mutaciones en aminoácidos\n",
        "linajes_df=\n",
        "\n",
        "#ver el dataframe creado en pantalla\n",
        "linajes_df"
      ],
      "metadata": {
        "id": "2e6xkf0HhkBq"
      },
      "execution_count": null,
      "outputs": []
    },
    {
      "cell_type": "markdown",
      "source": [
        "#### Ahora que tenemos dos dataframes, podemos utilizar la herramienta de pandas .merge() para juntarlos.\n",
        "#### Para esto se requiere que los dos dataframes tengan una columna en común para poder cruzar los datos"
      ],
      "metadata": {
        "id": "sUzIqpeUk5Iu"
      }
    },
    {
      "cell_type": "code",
      "source": [
        "#junta los dos dataframes basado en la columna 'seqName'\n",
        "juntos_df=pd.merge(cobertura_df, linajes_df, on=\"seqName\")"
      ],
      "metadata": {
        "id": "ASM9_S5wk4Za"
      },
      "execution_count": null,
      "outputs": []
    },
    {
      "cell_type": "markdown",
      "source": [
        "#### ❓En el cuadro debajo escriba una línea de código para guardar el nuevo dataframe (juntos_df) como un archivo csv."
      ],
      "metadata": {
        "id": "4gQzlFuXmEcs"
      }
    },
    {
      "cell_type": "code",
      "source": [
        "##Complete este cuadro con una línea de código para guardar el dataframe como un archivo .csv\n"
      ],
      "metadata": {
        "id": "oDK0hKYCmOh0"
      },
      "execution_count": null,
      "outputs": []
    },
    {
      "cell_type": "markdown",
      "source": [
        "## [7] Explorar la visualización de Auspice\n",
        "#### Entre los archivos de resultado de nextclade encontramos una filogenia anotada con las mutaciones. Para visualizar el archivo de filogenia anotada primero debemos descargar el archivo\n",
        "\n",
        "####En la parte izquierda de esta pantalla hay un ícono de de carpeta.\n",
        "####Descargue el archivo que termina en **.auspice.json**\n",
        "\n",
        "#### Ingrese a [auspice.us](https://auspice.us) donde podrá cargar el archivo con la visualización\n",
        "\n",
        "####Ahora podemos explorar las mutaciones en un contexto evolutivo\n"
      ],
      "metadata": {
        "id": "tOXAM6xRGJfQ"
      }
    },
    {
      "cell_type": "markdown",
      "source": [
        "#### [8] Cargar información adicional a la visualización de Auspice\n",
        "\n",
        "#### En nuestra visualización de [auspice.us](https://auspice.us) podemos agregar información de nuestras muestras, incluyendo columnas para categorías como procedencia, desenlace clínico, intensidad de la enfermedad, e incluso las coordenadas geográficas\n",
        "\n",
        "#### Para esto solo debemos construir un archivo de excel con la columna 'strain' indicando los nombres de nuestras muestras tal como aparecen en el archivo .auspice.json, y las columnas con nuestros datos (para coordenadas las columnas son 'latitude' y 'longitude')\n",
        "#### Primero descarguemos y exploremos el archivo de metadatos"
      ],
      "metadata": {
        "id": "qDB5JTY0nOb_"
      }
    },
    {
      "cell_type": "code",
      "source": [
        "#Descarga el archivo de metadatosSARS.xlsx desde el repositorio con el comando curl\n",
        "!wget https://github.com/diseasesdetectives/Curso_Bioinformatica_para_profesionales_de_la_salud_publica/raw/master/data_curso/Modulo_3/metadatosSARS.xlsx\n"
      ],
      "metadata": {
        "id": "L_LEBaZtlGNb"
      },
      "execution_count": null,
      "outputs": []
    },
    {
      "cell_type": "markdown",
      "source": [
        "#### Ahora veamos el contenido del archivo de metadatos\n",
        "#### En la primera columna está el nombre de las secuencias, que debe coincidir con los encabezados del fasta"
      ],
      "metadata": {
        "id": "MfFesdN9tm3_"
      }
    },
    {
      "cell_type": "code",
      "source": [
        "#carga la librería de pandas con el nombre pd (solamente para tener que escribir menos letras)\n",
        "import pandas as pd\n",
        "\n",
        "#carga el archivo de excel como un dataframe de pandas\n",
        "df_datos = pd.read_excel('/content/metadatosSARS.xlsx',sheet_name='Hoja1')\n",
        "df_datos"
      ],
      "metadata": {
        "id": "XW2-u71kpnWk"
      },
      "execution_count": null,
      "outputs": []
    },
    {
      "cell_type": "markdown",
      "source": [
        "#### Descargue el archivo [metadatosSARS.xlsx](https://github.com/diseasesdetectives/Curso_Bioinformatica_para_profesionales_de_la_salud_publica/raw/master/data_curso/Modulo_3/metadatosSARS.xlsx) a su computador desde colab o desde el repositorio y arrastrelo a la pantalla de Auspice con la filogenia previamente cargada"
      ],
      "metadata": {
        "id": "N4NF5J09uDO3"
      }
    },
    {
      "cell_type": "markdown",
      "source": [
        "## [9] Ejercicio Auspice\n",
        "#### ❓¿Existen mutaciones de aminoácidos es Spike comunes entre las muestras estudiadas?\n",
        "#### Explore las mutaciones de interés en Spike S:L455F, S:L455S, y S:F456L. Describa sus observaciones\n",
        "#### ¿De qué linajes o que características tienen las secuencias que corresponden a pacientes fallecidos?"
      ],
      "metadata": {
        "id": "RBuGFSUGmn1l"
      }
    },
    {
      "cell_type": "markdown",
      "source": [],
      "metadata": {
        "id": "-fnPW9KHm8Lg"
      }
    }
  ]
}