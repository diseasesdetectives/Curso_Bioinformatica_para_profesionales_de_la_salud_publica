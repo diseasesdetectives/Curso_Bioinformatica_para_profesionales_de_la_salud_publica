{
  "nbformat": 4,
  "nbformat_minor": 0,
  "metadata": {
    "colab": {
      "provenance": []
    },
    "kernelspec": {
      "name": "python3",
      "display_name": "Python 3"
    },
    "language_info": {
      "name": "python"
    }
  },
  "cells": [
    {
      "cell_type": "markdown",
      "source": [
        "# 📚 Tarea Modulo 03 Tipificación - **Ejercicio Nextclade**\n",
        "\n",
        "**En este notebook deberá completar el código basandose en la clase de SARS-Cov-2. Los pasos de instalación se encuentran completos pero debe ejecutarlos. Completar desde el paso [3]**\n",
        "\n",
        "**Plazo: 16 de febrero de 2024**\n",
        "\n",
        "###Nota: Los comandos de bash empiezan con  \"!\"\n",
        "###Nota: El las casillad de código los comentarios empiezan con \"#\"\n",
        "\n",
        "En este Notebook se realizarán los pasos para realizar la tipificación de Virus Sincitial Respiratorio utilizando las herramientas de Nextclade\n",
        "\n",
        "##Resultados esperados\n",
        "*   Completar el código para caracterizar RSV-B en Nextclade\n",
        "*   Descargar el set de datos para RSV-B\n",
        "*   Ejecutar la caracterización de las secuencias de RSV-B\n",
        "*   Obtener el informe en Pandas y juntarlo con información de las muestras\n",
        "*   Descargar el archivo .auspice.json y explorarlo en auspice.us\n",
        "\n",
        "\n",
        "\n",
        "\n"
      ],
      "metadata": {
        "id": "aKaXSPdjnQ3U"
      }
    },
    {
      "cell_type": "markdown",
      "source": [
        "## [0] Instalación de Conda/Mamba\n",
        "#### Conda/Mamba es una herramienta que permite manejar paquetes y ambientes.\n",
        "#### Los ambientes son espacios aislados donde podrá instalar y ejecutar herramientas específicas para un projecto\n",
        "#### Los programas que vamos a usar se encuentran disponibles como ambientes de Conda"
      ],
      "metadata": {
        "id": "z8-BPPSnqpsN"
      }
    },
    {
      "cell_type": "code",
      "source": [
        "#verificar la versión de Python\n",
        "#para la mayoría de programas, usar la opción --version nos devolverá la versión del programa\n",
        "!python --version"
      ],
      "metadata": {
        "id": "te8UxTquOKNS"
      },
      "execution_count": null,
      "outputs": []
    },
    {
      "cell_type": "code",
      "execution_count": null,
      "metadata": {
        "id": "U1FikuBVXozA"
      },
      "outputs": [],
      "source": [
        "#Usando instalador de bibliotecas de Python (pip) para instalar conda/mamba.\n",
        "\n",
        "  #whoami es un comando de bash que nos dice qué usuario está activo\n",
        "!whoami\n",
        "  #pip es el instalador de bibliotecas de python\n",
        "!pip install -q condacolab\n",
        "\n",
        "#Código en Python\n",
        "  #importando la libreria de herramientas de condacolab\n",
        "import condacolab\n",
        "  #instalar conda\n",
        "condacolab.install()\n",
        "\n",
        "print(\"Restarting of kernel...\")\n",
        "get_ipython().kernel.do_shutdown(True)\n",
        "\n",
        "#Verificación versión conda\n",
        "!conda --version"
      ]
    },
    {
      "cell_type": "markdown",
      "source": [
        "## [1] Descarga de datos\n",
        "### Descargue los archivos de secuencia en formato fasta desde el repositorio usando el comando wget"
      ],
      "metadata": {
        "id": "CWpMU-U4qddf"
      }
    },
    {
      "cell_type": "code",
      "execution_count": null,
      "metadata": {
        "id": "w8q5hFXqXxHH"
      },
      "outputs": [],
      "source": [
        "#Los datos de sequenciación en formato fasta se encuentran depositados en el repositorio:\n",
        "  #wget ws un programa que recupera archivos desde servidores web\n",
        "!wget https://github.com/diseasesdetectives/Curso_Bioinformatica_para_profesionales_de_la_salud_publica/raw/master/data_curso/Modulo_3/secuencias_rsv.fas\n",
        "\n",
        "  #ls es el comando que nos devuelve la lista de archivos del directorio actual\n",
        "print(\"Contenido del directorio actual\")\n",
        "!ls"
      ]
    },
    {
      "cell_type": "markdown",
      "source": [
        "#### Veamos el contenido del archivo fasta"
      ],
      "metadata": {
        "id": "_XyDnE2jRglP"
      }
    },
    {
      "cell_type": "code",
      "source": [
        "!head -n 5 secuencias_rsv.fas"
      ],
      "metadata": {
        "id": "yvzkHSUjRjgc"
      },
      "execution_count": null,
      "outputs": []
    },
    {
      "cell_type": "markdown",
      "source": [
        "Para ver cuántas secuencias hay, utulice el comando grep.\n",
        "Ayuda: puede buscar el símbolo \">\" para identificar las líneas de los encabezados"
      ],
      "metadata": {
        "id": "1RUzv4vERp21"
      }
    },
    {
      "cell_type": "code",
      "source": [
        "#COMPLETE EL CODIGO DEBAJO\n",
        "!grep"
      ],
      "metadata": {
        "id": "V9ZzdvfERxl3"
      },
      "execution_count": null,
      "outputs": []
    },
    {
      "cell_type": "markdown",
      "source": [
        "## [2] Instalación de Nextclade y configuración\n",
        "#### Vamos a usar Nextclade para caracterizar las secuencias de RSV-B\n",
        "####Nextclade está disponible como ambiente de conda"
      ],
      "metadata": {
        "id": "p_fuvWIpqusW"
      }
    },
    {
      "cell_type": "markdown",
      "source": [
        "Instalar paquetes en el ambiente de conda para caracterizar genomas usando Nextclade"
      ],
      "metadata": {
        "id": "n9uXeE_5rj90"
      }
    },
    {
      "cell_type": "code",
      "execution_count": null,
      "metadata": {
        "id": "R-RYenbcu_2w"
      },
      "outputs": [],
      "source": [
        "#Crear ambiente de conda con las herramientas de\n",
        "  #intalación de Nextclade como ambiente de conda\n",
        "  #comando de conda para ver los ambientes disponibles\n",
        "!conda env list\n",
        "  #instalación del programa Nextclade dentro del ambiente \"base\"\n",
        "  # la opción -c se usa para indicar el repositorio de paquetes y programas. Nextclade está en el repositorio bioconda\n",
        "!conda install -c bioconda nextclade --quiet\n",
        "\n",
        "#Reiniciando el shell con las herramientas instaladas\n",
        "print(\"Reiniciando el kernel...\")\n",
        "get_ipython().kernel.do_shutdown(True)\n",
        "\n",
        "print(\"\")\n",
        "print(\"Se ha instalado Nextclade\")"
      ]
    },
    {
      "cell_type": "markdown",
      "source": [
        "## [3] Descarga de sets de datos para configurar y realizar análisis\n",
        "\n",
        "###Ahora usaremos Nextclade para caracterizar RSV-B\n",
        "\n",
        "### Primero revisemos la lista de virus que podemos analizar con Nextclade y descargar el set de datos adecuado"
      ],
      "metadata": {
        "id": "EKB2tiwCsiDN"
      }
    },
    {
      "cell_type": "code",
      "execution_count": 2,
      "metadata": {
        "id": "iVYxjBmY7fn4"
      },
      "outputs": [],
      "source": [
        "#Listar los datasets disponibles en nextclade\n",
        "#dataset list genera la lista de datasets disponibles\n",
        "  #usar los comandos de nextclade para ver la lista de sets de datos disponibles para realizar análisis\n",
        "  #con la señal \">\" vamos a guardar esta lista en un documento de extensión .csv que podemos revisar después\n",
        "!nextclade dataset list > nextclade_dataset_list.csv\n",
        "print(\"Se ha descargado la lista en el archivo nextclade_dataset_list.csv\")\n",
        "print(\"\")\n",
        "print(\"Contenido del directorio actual\")\n",
        "!ls"
      ]
    },
    {
      "cell_type": "markdown",
      "source": [
        "#### Con la herramienta cat podemos ver el contenido del archivo que creamos\n",
        "\n",
        "#### Explore esta lista para ver los sets de datos disponibles y los organismos que puede analizar con nextclade\n",
        "\n",
        "#### En la columna \"attributes\" se encuentran los nombres de cada set de datos. Esta información se necesita para descargarlos"
      ],
      "metadata": {
        "id": "hjjhg7Pm3OqO"
      }
    },
    {
      "cell_type": "code",
      "source": [
        " # el comando cat nos muestra el contenido del archivo donde guardamos la lista de sets de datos\n",
        "!cat nextclade_dataset_list.csv"
      ],
      "metadata": {
        "id": "GclIKCik3PAR"
      },
      "execution_count": null,
      "outputs": []
    },
    {
      "cell_type": "markdown",
      "source": [
        "### ❓¿Cuál es el set de datos que debemos descargar?\n",
        "###Descarguemos este set de datos"
      ],
      "metadata": {
        "id": "y04r8_CXi4nb"
      }
    },
    {
      "cell_type": "code",
      "execution_count": null,
      "metadata": {
        "id": "a6ChZU09vYZv"
      },
      "outputs": [],
      "source": [
        "  #dataset get descarga los archivos del dataset de nombre --name en el directorio --out\n",
        "  #COMPLETE EL CÓDIGO DEBAJO\n",
        "!nextclade\n",
        "\n",
        "  #ls . nos muestra la lista de archivos y directorios dentro de nuestra ubicación actual (.)\n",
        "  #debe poder ver el directorio que descargamos con el set de datos\n",
        "!ls .\n"
      ]
    },
    {
      "cell_type": "markdown",
      "source": [
        "El dataset de nextclade contiene información del genoma de referencia y los genes codificantes del virus con el fin de realizar una anotación completa, tipificación y caracterización de mutaciones de nt y aa\n",
        "\n",
        "Use los comandos aprendidos para ver el contenido de estas carpetas"
      ],
      "metadata": {
        "id": "dYde-iryomkE"
      }
    },
    {
      "cell_type": "code",
      "source": [
        "#complete este comando para ver la lista de archivos dentro del directorio del set de datos de rsv-b\n",
        "!ls"
      ],
      "metadata": {
        "id": "IM5CMCAJ5ep1"
      },
      "execution_count": null,
      "outputs": []
    },
    {
      "cell_type": "markdown",
      "source": [
        "## ❓[4] Ejecutemos Nextclade"
      ],
      "metadata": {
        "id": "EStdhEm4EHRt"
      }
    },
    {
      "cell_type": "code",
      "execution_count": null,
      "metadata": {
        "id": "LPOOQ0ZOwQlx"
      },
      "outputs": [],
      "source": [
        "#Ejecutar Nextclade con el set de datos de RSV-B para tipificar y caracterizar nuestras secuencias\n",
        "#El símbolo \\ indica al servidor que el comando continua en la siguiente línea\n",
        "#el directorio de salida se llamará nextclade_out\n",
        "\n",
        "#COMPLETE EL CÓDIGO DEBAJO\n",
        "\n",
        "!nextclade run\\\n",
        "--output-all=nextclade_out \\\n",
        "--input-dataset= \\\n",
        "--output-basename= \\\n",
        "--verbosity=\"error\" \\\n",
        "\n",
        "\n",
        "print(\"Se ha ejecutado Nextclade para RSV-B\")\n",
        "print(\"estos son los archivos de salida dentro del directorio nextclade_out\")\n",
        "#listar el contenido del directorio de\n",
        "!ls nextclade_out"
      ]
    },
    {
      "cell_type": "markdown",
      "source": [
        "#### Obtenemos:\n",
        "\n",
        "*   Un alineamiento de las secuencias frente a la referencia\n",
        "*   Traducciones de los genes\n",
        "*   Tablas con información de las características genómicas de las secuencias\n",
        "*   Un archivo auspice.json con la visualización de la filogenia anotada con las características\n",
        "\n"
      ],
      "metadata": {
        "id": "hfWryu9TE5FK"
      }
    },
    {
      "cell_type": "markdown",
      "source": [
        "## ❓[5] Explorar los resultados usando Pandas\n",
        "#### Para explorar las tablas obtenidas vamos a usar el programa Pandas.\n",
        "Con pandas podemos convertir los archivos en dataframes, y explorar las tablas programáticamente\n",
        "\n",
        "Pandas es una librería de python ya instalada pero primero la debemos cargar"
      ],
      "metadata": {
        "id": "6ncLsaACFdz5"
      }
    },
    {
      "cell_type": "code",
      "source": [
        "import pandas as pd\n",
        "\n",
        "#Cargar la tabla en formato csv como un dataframe de pandas llamdo df\n",
        "#COMPLETE EL CÓDIGO DEBAJO\n",
        "df =\n",
        "\n",
        "#Ver el dataframe en pantalla\n",
        "df"
      ],
      "metadata": {
        "id": "GgkIT2UCBAyM"
      },
      "execution_count": null,
      "outputs": []
    },
    {
      "cell_type": "markdown",
      "source": [
        "####Ver encabezados de las columnas\n",
        "\n",
        "Podemos hacer una lista de los encabezados de las columnas para ver qué tipo de información contiene usando el comando list()\n",
        "\n",
        "❓PREGUNTA: ¿Cuántas columnas tiene el archivo .csv del output de nextclade?"
      ],
      "metadata": {
        "id": "byRUzAz11mVT"
      }
    },
    {
      "cell_type": "code",
      "source": [
        "# lista los encabezados de las columnas\n",
        "# COMPLETE EL CÓDIGO DEBAJO\n"
      ],
      "metadata": {
        "id": "Y7u9pwR61lLi"
      },
      "execution_count": null,
      "outputs": []
    },
    {
      "cell_type": "markdown",
      "source": [],
      "metadata": {
        "id": "woNQwG54ocyH"
      }
    },
    {
      "cell_type": "markdown",
      "source": [
        "#### Podemos hacer una tabla con solo las columnas que queremos ver.\n",
        "####❓Haga una tabla solo con seqName, la cobertura, linaje, clado y mutaciones de aminoácidos"
      ],
      "metadata": {
        "id": "f4X4UZVYfm_G"
      }
    },
    {
      "cell_type": "code",
      "source": [
        "# hacer un dataframe solo con las columnas seqName y coverage\n",
        "#COMPLETE EL CODIGO\n",
        "caracteristicas_df=\n",
        "\n",
        "#ver el dataframe creado en pantalla\n",
        "características_df"
      ],
      "metadata": {
        "id": "-ZABX9gyZ-s3"
      },
      "execution_count": null,
      "outputs": []
    },
    {
      "cell_type": "markdown",
      "source": [],
      "metadata": {
        "id": "bKAE511ZSF-s"
      }
    },
    {
      "cell_type": "markdown",
      "source": [
        "####Vamos a subir a nuestro notebook un archivo en formato CSV con metadatos imaginarios de las muestras de RSV-B. Los nombres de las muestras en este archivo deben coincidir con el seqName para poder juntarlos con pandas\n",
        "\n",
        "####Recuerde que el encabezado de la primera columna debe llamarse seqName\n"
      ],
      "metadata": {
        "id": "om0vFBk5Qb1P"
      }
    },
    {
      "cell_type": "code",
      "source": [
        "#Código en Python para cargar archivos al notebook de colab\n",
        "from google.colab import files\n",
        "uploaded = files.upload()\n",
        "!ls"
      ],
      "metadata": {
        "id": "R3_OG_oPRBcr"
      },
      "execution_count": null,
      "outputs": []
    },
    {
      "cell_type": "markdown",
      "source": [
        "####❓Cargue este archivo .csv como un dataframe de pandas llamado datos_df y júntelo en una sola tabla"
      ],
      "metadata": {
        "id": "QtyvHQ9ORTy-"
      }
    },
    {
      "cell_type": "code",
      "source": [
        " import pandas as pd\n",
        "\n",
        "#Cargar la tabla en formato csv como un dataframe de pandas llamdo datos_df\n",
        "#COMPLETE EL CODIGO DEBAJO\n",
        "datos_df = pd.read_csv()\n",
        "\n",
        "#junta los dos dataframes basado en la columna 'seqName'\n",
        "#COMPLETE EL CODIGO DEBAJO\n",
        "juntos_df=\n",
        "\n",
        "#Ver en pantalla el dataframe juntos_df\n",
        "juntos_df"
      ],
      "metadata": {
        "id": "cva_I1OvRR4r"
      },
      "execution_count": null,
      "outputs": []
    },
    {
      "cell_type": "markdown",
      "source": [
        "#### ❓Exporte la tabla creada juntos_df como archivo en formato csv"
      ],
      "metadata": {
        "id": "UzGMWxcbhlIv"
      }
    },
    {
      "cell_type": "code",
      "source": [
        "#con las herramientas .to_csv() podemos guardar el dataframe e indicar el separador de columnas y el decimal.\n",
        "#COMPLETE EL CODIGO DEBAJO\n"
      ],
      "metadata": {
        "id": "n6sn7dLbiRgr"
      },
      "execution_count": null,
      "outputs": []
    },
    {
      "cell_type": "markdown",
      "source": [
        "## ❓Explorar la visualización de Auspice\n",
        "#### Entre los archivos de resultado de nextclade encontramos una filogenia anotada con las mutaciones. Para visualizar el archivo de filogenia anotada primero debemos descargar el archivo\n",
        "\n",
        "####En la parte izquierda de esta pantalla hay un ícono de de carpeta.\n",
        "####Descargue el archivo que termina en **.auspice.json**\n",
        "\n",
        "#### Ingrese a [auspice.us](https://auspice.us) donde podrá cargar el archivo con la visualización\n",
        "\n",
        "####Ahora podemos explorar las mutaciones en un contexto evolutivo\n"
      ],
      "metadata": {
        "id": "tOXAM6xRGJfQ"
      }
    },
    {
      "cell_type": "markdown",
      "source": [
        "#### Cargar información adicional a la visualización de Auspice\n",
        "\n",
        "#### En nuestra visualización de [auspice.us](https://auspice.us) podemos agregar información de nuestras muestras, incluyendo columnas para categorías como procedencia, desenlace clínico, intensidad de la enfermedad, e incluso las coordenadas geográficas\n",
        "\n",
        "#### Para esto solo debemos construir un archivo de excel con la columna 'strain' indicando los nombres de nuestras muestras tal como aparecen en el archivo .auspice.json, y las columnas con nuestros datos (para coordenadas las columnas son 'latitude' y 'longitude')"
      ],
      "metadata": {
        "id": "qDB5JTY0nOb_"
      }
    },
    {
      "cell_type": "markdown",
      "source": [
        "#### ❓¿Existen mutaciones de aminoácidos en las proteínas F y G que comunes entre las muestras estudiadas? ¿Cuáles?"
      ],
      "metadata": {
        "id": "SF7zbKVOoYYr"
      }
    },
    {
      "cell_type": "markdown",
      "source": [],
      "metadata": {
        "id": "qknmzZRaoZRg"
      }
    }
  ]
}
