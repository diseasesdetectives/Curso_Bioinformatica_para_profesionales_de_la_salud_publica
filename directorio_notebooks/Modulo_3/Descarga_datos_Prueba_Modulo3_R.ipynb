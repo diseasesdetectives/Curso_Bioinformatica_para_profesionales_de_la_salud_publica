{
  "nbformat": 4,
  "nbformat_minor": 0,
  "metadata": {
    "colab": {
      "provenance": []
    },
    "kernelspec": {
      "name": "python3",
      "display_name": "Python 3"
    },
    "language_info": {
      "name": "python"
    }
  },
  "cells": [
    {
      "cell_type": "markdown",
      "source": [
        "#Curso Bioinformática para profesionales de la salud pública: Enfrentando los patógenos respiratorios"
      ],
      "metadata": {
        "id": "IxzK_1SQP1p5"
      }
    },
    {
      "cell_type": "markdown",
      "source": [
        "#Descarga de datos Ejercicio Módulo 3 Práctica R\n",
        "\n",
        "##Descarge del repositorio de GitHub los archivos metadatosSARS.xlsx y nextclade_output.csv"
      ],
      "metadata": {
        "id": "BWW2zEOEQkG0"
      }
    },
    {
      "cell_type": "code",
      "execution_count": null,
      "metadata": {
        "id": "O2J7Q7FVPyX2"
      },
      "outputs": [],
      "source": [
        "!wget https://github.com/diseasesdetectives/Curso_Bioinformatica_para_profesionales_de_la_salud_publica/raw/master/data_curso/Modulo_3/metadatosSARS.xlsx\n",
        "!wget https://github.com/diseasesdetectives/Curso_Bioinformatica_para_profesionales_de_la_salud_publica/raw/master/data_curso/Modulo_3/nextclade_output.csv"
      ]
    }
  ]
}